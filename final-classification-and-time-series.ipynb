{
 "cells": [
  {
   "cell_type": "code",
   "execution_count": 1,
   "metadata": {
    "_cell_guid": "b1076dfc-b9ad-4769-8c92-a6c4dae69d19",
    "_uuid": "8f2839f25d086af736a60e9eeb907d3b93b6e0e5",
    "execution": {
     "iopub.execute_input": "2024-05-09T20:30:56.647641Z",
     "iopub.status.busy": "2024-05-09T20:30:56.647184Z",
     "iopub.status.idle": "2024-05-09T20:30:57.621650Z",
     "shell.execute_reply": "2024-05-09T20:30:57.620235Z",
     "shell.execute_reply.started": "2024-05-09T20:30:56.647606Z"
    }
   },
   "outputs": [
    {
     "name": "stdout",
     "output_type": "stream",
     "text": [
      "/kaggle/input/gdz-elektrik-datathon-2024/holidays.csv\n",
      "/kaggle/input/gdz-elektrik-datathon-2024/sample_submission.csv\n",
      "/kaggle/input/gdz-elektrik-datathon-2024/weather.csv\n",
      "/kaggle/input/gdz-elektrik-datathon-2024/train.csv\n",
      "/kaggle/input/gdz-elektrik-datathon-2024/test.csv\n"
     ]
    }
   ],
   "source": [
    "# This Python 3 environment comes with many helpful analytics libraries installed\n",
    "# It is defined by the kaggle/python Docker image: https://github.com/kaggle/docker-python\n",
    "# For example, here's several helpful packages to load\n",
    "\n",
    "import numpy as np # linear algebra\n",
    "import pandas as pd # data processing, CSV file I/O (e.g. pd.read_csv)\n",
    "\n",
    "# Input data files are available in the read-only \"../input/\" directory\n",
    "# For example, running this (by clicking run or pressing Shift+Enter) will list all files under the input directory\n",
    "\n",
    "import os\n",
    "for dirname, _, filenames in os.walk('/kaggle/input'):\n",
    "    for filename in filenames:\n",
    "        print(os.path.join(dirname, filename))\n",
    "\n",
    "# You can write up to 20GB to the current directory (/kaggle/working/) that gets preserved as output when you create a version using \"Save & Run All\" \n",
    "# You can also write temporary files to /kaggle/temp/, but they won't be saved outside of the current session"
   ]
  },
  {
   "cell_type": "code",
   "execution_count": 2,
   "metadata": {
    "execution": {
     "iopub.execute_input": "2024-05-09T20:31:00.482069Z",
     "iopub.status.busy": "2024-05-09T20:31:00.481503Z",
     "iopub.status.idle": "2024-05-09T20:31:01.695903Z",
     "shell.execute_reply": "2024-05-09T20:31:01.694704Z",
     "shell.execute_reply.started": "2024-05-09T20:31:00.482034Z"
    }
   },
   "outputs": [],
   "source": [
    "# from mpl_toolkits.mplot3d import Axes3D\n",
    "# from sklearn.preprocessing import StandardScaler\n",
    "import matplotlib.pyplot as plt # plotting\n",
    "import numpy as np # linear algebra\n",
    "import os # accessing directory structure\n",
    "import pandas as pd # data processing, CSV file I/O (e.g. pd.read_csv)\n",
    "import seaborn as sns\n",
    "# pd.options.mode.chained_assignment = None  # default='warn'\n",
    "# import warnings\n",
    "# warnings.filterwarnings('ignore')\n",
    "from datetime import datetime"
   ]
  },
  {
   "cell_type": "code",
   "execution_count": 3,
   "metadata": {
    "execution": {
     "iopub.execute_input": "2024-05-09T20:31:02.317972Z",
     "iopub.status.busy": "2024-05-09T20:31:02.317545Z",
     "iopub.status.idle": "2024-05-09T20:31:02.323680Z",
     "shell.execute_reply": "2024-05-09T20:31:02.322618Z",
     "shell.execute_reply.started": "2024-05-09T20:31:02.317939Z"
    }
   },
   "outputs": [],
   "source": [
    "def printDateRange(df):\n",
    "    print('min_date :', df['tarih'].min());    print('max_date :', df['tarih'].max());"
   ]
  },
  {
   "cell_type": "code",
   "execution_count": 4,
   "metadata": {
    "execution": {
     "iopub.execute_input": "2024-05-09T20:31:08.136171Z",
     "iopub.status.busy": "2024-05-09T20:31:08.135729Z",
     "iopub.status.idle": "2024-05-09T20:31:12.036720Z",
     "shell.execute_reply": "2024-05-09T20:31:12.035567Z",
     "shell.execute_reply.started": "2024-05-09T20:31:08.136138Z"
    }
   },
   "outputs": [],
   "source": [
    "train_df = pd.read_csv(r\"/kaggle/input/gdz-elektrik-datathon-2024/train.csv\")\n",
    "test_df = pd.read_csv(r\"/kaggle/input/gdz-elektrik-datathon-2024/test.csv\")\n",
    "holidays_df = pd.read_csv(r\"/kaggle/input/gdz-elektrik-datathon-2024/holidays.csv\")\n",
    "weather_df = pd.read_csv(r\"/kaggle/input/gdz-elektrik-datathon-2024/weather.csv\")\n",
    "sample_submission = pd.read_csv(r\"/kaggle/input/gdz-elektrik-datathon-2024/sample_submission.csv\")"
   ]
  },
  {
   "cell_type": "code",
   "execution_count": 5,
   "metadata": {
    "execution": {
     "iopub.execute_input": "2024-05-09T20:31:12.039311Z",
     "iopub.status.busy": "2024-05-09T20:31:12.038895Z",
     "iopub.status.idle": "2024-05-09T20:31:12.496261Z",
     "shell.execute_reply": "2024-05-09T20:31:12.494948Z",
     "shell.execute_reply.started": "2024-05-09T20:31:12.039279Z"
    }
   },
   "outputs": [
    {
     "name": "stdout",
     "output_type": "stream",
     "text": [
      "[1106, 1105, 1086, 1120, 1124, 1115, 1125, 1071, 1119, 1086, 920, 856, 1100, 1089, 1085, 1118, 914, 1097, 1124, 1125, 1119, 1124, 1111, 1107, 1124, 1122, 1126, 1119, 938, 566, 1059, 950, 805, 1126, 1027, 1105, 1123, 993, 1086, 1121, 1125, 698, 673, 783, 872, 1039, 622]\n"
     ]
    }
   ],
   "source": [
    "print([len(train_df[train_df['ilce'] == ilce]) for ilce in train_df['ilce'].unique()])"
   ]
  },
  {
   "cell_type": "code",
   "execution_count": 6,
   "metadata": {
    "execution": {
     "iopub.execute_input": "2024-05-09T20:31:12.497872Z",
     "iopub.status.busy": "2024-05-09T20:31:12.497534Z",
     "iopub.status.idle": "2024-05-09T20:31:12.546172Z",
     "shell.execute_reply": "2024-05-09T20:31:12.545061Z",
     "shell.execute_reply.started": "2024-05-09T20:31:12.497844Z"
    }
   },
   "outputs": [
    {
     "name": "stdout",
     "output_type": "stream",
     "text": [
      "[29, 29, 29, 29, 29, 29, 29, 29, 29, 29, 29, 29, 29, 29, 29, 29, 29, 29, 29, 29, 29, 29, 29, 29, 29, 29, 29, 29, 29, 29, 29, 29, 29, 29, 29, 29, 29, 29, 29, 29, 29, 29, 29, 29, 29, 29, 29]\n"
     ]
    }
   ],
   "source": [
    "print([len(test_df[test_df['ilce'] == ilce]) for ilce in test_df['ilce'].unique()])"
   ]
  },
  {
   "cell_type": "code",
   "execution_count": 7,
   "metadata": {
    "execution": {
     "iopub.execute_input": "2024-05-09T20:31:12.549360Z",
     "iopub.status.busy": "2024-05-09T20:31:12.548318Z",
     "iopub.status.idle": "2024-05-09T20:31:13.168409Z",
     "shell.execute_reply": "2024-05-09T20:31:13.167253Z",
     "shell.execute_reply.started": "2024-05-09T20:31:12.549329Z"
    }
   },
   "outputs": [
    {
     "name": "stdout",
     "output_type": "stream",
     "text": [
      "min_date : 2021-01-01\n",
      "max_date : 2024-01-31\n"
     ]
    }
   ],
   "source": [
    "ilce_df_array = [[]] * 47\n",
    "for i, ilce in enumerate(train_df['ilce'].unique()):\n",
    "    ilce_df_array[i] = train_df[train_df['ilce'] == ilce]\n",
    "    \n",
    "min_date = train_df['tarih'].min()\n",
    "print('min_date :', min_date)\n",
    "max_date = train_df['tarih'].max()\n",
    "print('max_date :', max_date)\n",
    "full_date_range = pd.date_range(start=min_date, end=max_date)\n",
    "full_date_range = [date.date() for date in full_date_range]\n",
    "full_date_range = [str(date) for date in full_date_range]\n",
    "\n",
    "zero_data = []\n",
    "for ilce_df in ilce_df_array:\n",
    "\n",
    "    existing_dates = set(ilce_df['tarih'])\n",
    "    \n",
    "    missing_dates = [date for date in full_date_range if date not in existing_dates]\n",
    "    \n",
    "    # missing_dates = [str(date.date()) for date in missing_dates] # set ['2021-01-01', '2021-01-02', '2021-01-03'] format\n",
    "    \n",
    "    for missing_date in missing_dates:\n",
    "        zero_data.append({'tarih': missing_date, 'ilce': ilce_df['ilce'].values[0], 'bildirimli_sum': 0, 'bildirimsiz_sum': 0})"
   ]
  },
  {
   "cell_type": "code",
   "execution_count": 8,
   "metadata": {
    "execution": {
     "iopub.execute_input": "2024-05-09T20:31:13.170377Z",
     "iopub.status.busy": "2024-05-09T20:31:13.169918Z",
     "iopub.status.idle": "2024-05-09T20:31:13.191787Z",
     "shell.execute_reply": "2024-05-09T20:31:13.190440Z",
     "shell.execute_reply.started": "2024-05-09T20:31:13.170343Z"
    }
   },
   "outputs": [],
   "source": [
    "zero_data = pd.DataFrame(zero_data)\n",
    "train_df = pd.concat([train_df, zero_data], ignore_index=True)"
   ]
  },
  {
   "cell_type": "code",
   "execution_count": 9,
   "metadata": {
    "execution": {
     "iopub.execute_input": "2024-05-09T20:31:13.194118Z",
     "iopub.status.busy": "2024-05-09T20:31:13.193648Z",
     "iopub.status.idle": "2024-05-09T20:31:14.168303Z",
     "shell.execute_reply": "2024-05-09T20:31:14.167022Z",
     "shell.execute_reply.started": "2024-05-09T20:31:13.194079Z"
    }
   },
   "outputs": [
    {
     "name": "stdout",
     "output_type": "stream",
     "text": [
      "[1126, 1126, 1126, 1126, 1126, 1126, 1126, 1126, 1126, 1126, 1126, 1126, 1126, 1126, 1126, 1126, 1126, 1126, 1126, 1126, 1126, 1126, 1126, 1126, 1126, 1126, 1126, 1126, 1126, 1126, 1126, 1126, 1126, 1126, 1126, 1126, 1126, 1126, 1126, 1126, 1126, 1126, 1126, 1126, 1126, 1126, 1126]\n"
     ]
    }
   ],
   "source": [
    "ilce_df_array = [[]] * 47\n",
    "for i, ilce in enumerate(train_df['ilce'].unique()):\n",
    "    ilce_df_array[i] = train_df[train_df['ilce'] == ilce]\n",
    "    \n",
    "print([len(train_df[train_df['ilce'] == ilce]) for ilce in train_df['ilce'].unique()])"
   ]
  },
  {
   "cell_type": "code",
   "execution_count": 10,
   "metadata": {
    "execution": {
     "iopub.execute_input": "2024-05-09T20:31:14.170029Z",
     "iopub.status.busy": "2024-05-09T20:31:14.169701Z",
     "iopub.status.idle": "2024-05-09T20:31:14.661727Z",
     "shell.execute_reply": "2024-05-09T20:31:14.660380Z",
     "shell.execute_reply.started": "2024-05-09T20:31:14.170002Z"
    }
   },
   "outputs": [
    {
     "name": "stdout",
     "output_type": "stream",
     "text": [
      "[1126, 1126, 1126, 1126, 1126, 1126, 1126, 1126, 1126, 1126, 1126, 1126, 1126, 1126, 1126, 1126, 1126, 1126, 1126, 1126, 1126, 1126, 1126, 1126, 1126, 1126, 1126, 1126, 1126, 1126, 1126, 1126, 1126, 1126, 1126, 1126, 1126, 1126, 1126, 1126, 1126, 1126, 1126, 1126, 1126, 1126, 1126]\n"
     ]
    }
   ],
   "source": [
    "print([len(train_df[train_df['ilce'] == ilce]) for ilce in train_df['ilce'].unique()])"
   ]
  },
  {
   "cell_type": "code",
   "execution_count": 11,
   "metadata": {
    "execution": {
     "iopub.execute_input": "2024-05-09T20:31:14.663880Z",
     "iopub.status.busy": "2024-05-09T20:31:14.663367Z",
     "iopub.status.idle": "2024-05-09T20:31:14.671374Z",
     "shell.execute_reply": "2024-05-09T20:31:14.670141Z",
     "shell.execute_reply.started": "2024-05-09T20:31:14.663838Z"
    }
   },
   "outputs": [],
   "source": [
    "train_for_time_series = train_df.copy()"
   ]
  },
  {
   "cell_type": "markdown",
   "metadata": {},
   "source": [
    "## FUTURE ENGINEERING"
   ]
  },
  {
   "cell_type": "code",
   "execution_count": 12,
   "metadata": {
    "execution": {
     "iopub.execute_input": "2024-05-09T20:31:14.676426Z",
     "iopub.status.busy": "2024-05-09T20:31:14.675902Z",
     "iopub.status.idle": "2024-05-09T20:31:14.686421Z",
     "shell.execute_reply": "2024-05-09T20:31:14.685321Z",
     "shell.execute_reply.started": "2024-05-09T20:31:14.676389Z"
    }
   },
   "outputs": [],
   "source": [
    "combine = [train_df, test_df]\n",
    "merged_data = pd.concat([train_df, test_df], ignore_index=True)"
   ]
  },
  {
   "cell_type": "code",
   "execution_count": 13,
   "metadata": {
    "execution": {
     "iopub.execute_input": "2024-05-09T20:31:14.688070Z",
     "iopub.status.busy": "2024-05-09T20:31:14.687732Z",
     "iopub.status.idle": "2024-05-09T20:31:14.804371Z",
     "shell.execute_reply": "2024-05-09T20:31:14.803184Z",
     "shell.execute_reply.started": "2024-05-09T20:31:14.688040Z"
    }
   },
   "outputs": [],
   "source": [
    "for df in combine:\n",
    "    df['il'] = np.where(df['ilce'].str.split('-').str[0] == 'izmir', 0, 1)"
   ]
  },
  {
   "cell_type": "code",
   "execution_count": 14,
   "metadata": {
    "execution": {
     "iopub.execute_input": "2024-05-09T20:31:14.805998Z",
     "iopub.status.busy": "2024-05-09T20:31:14.805650Z",
     "iopub.status.idle": "2024-05-09T20:31:14.839611Z",
     "shell.execute_reply": "2024-05-09T20:31:14.838516Z",
     "shell.execute_reply.started": "2024-05-09T20:31:14.805968Z"
    }
   },
   "outputs": [],
   "source": [
    "for df in combine:\n",
    "    df['weekend'] = np.where(pd.to_datetime(df['tarih']).dt.weekday >= 5, 1, 0)"
   ]
  },
  {
   "cell_type": "code",
   "execution_count": 15,
   "metadata": {
    "execution": {
     "iopub.execute_input": "2024-05-09T20:31:14.841758Z",
     "iopub.status.busy": "2024-05-09T20:31:14.841274Z",
     "iopub.status.idle": "2024-05-09T20:31:14.867899Z",
     "shell.execute_reply": "2024-05-09T20:31:14.866634Z",
     "shell.execute_reply.started": "2024-05-09T20:31:14.841708Z"
    }
   },
   "outputs": [],
   "source": [
    "for df in combine:\n",
    "    df['tarih'] = pd.to_datetime(df['tarih'])"
   ]
  },
  {
   "cell_type": "code",
   "execution_count": 16,
   "metadata": {
    "execution": {
     "iopub.execute_input": "2024-05-09T20:31:14.869767Z",
     "iopub.status.busy": "2024-05-09T20:31:14.869422Z",
     "iopub.status.idle": "2024-05-09T20:31:14.881416Z",
     "shell.execute_reply": "2024-05-09T20:31:14.879942Z",
     "shell.execute_reply.started": "2024-05-09T20:31:14.869738Z"
    }
   },
   "outputs": [],
   "source": [
    "# def mevsim_bul(tarih):\n",
    "#     ay = tarih.month\n",
    "#     if 3 <= ay <= 5:\n",
    "#         return 'Bahar'\n",
    "#     elif 6 <= ay <= 8:\n",
    "#         return 'Yaz'\n",
    "#     elif 9 <= ay <= 11:\n",
    "#         return 'Sonbahar'\n",
    "#     else:\n",
    "#         return 'Kış'\n",
    "\n",
    "# for df in combine:\n",
    "#     df['mevsim'] = df['tarih'].apply(mevsim_bul)"
   ]
  },
  {
   "cell_type": "code",
   "execution_count": 17,
   "metadata": {
    "execution": {
     "iopub.execute_input": "2024-05-09T20:31:14.883101Z",
     "iopub.status.busy": "2024-05-09T20:31:14.882756Z",
     "iopub.status.idle": "2024-05-09T20:31:14.910764Z",
     "shell.execute_reply": "2024-05-09T20:31:14.909693Z",
     "shell.execute_reply.started": "2024-05-09T20:31:14.883071Z"
    }
   },
   "outputs": [
    {
     "data": {
      "text/html": [
       "<div>\n",
       "<style scoped>\n",
       "    .dataframe tbody tr th:only-of-type {\n",
       "        vertical-align: middle;\n",
       "    }\n",
       "\n",
       "    .dataframe tbody tr th {\n",
       "        vertical-align: top;\n",
       "    }\n",
       "\n",
       "    .dataframe thead th {\n",
       "        text-align: right;\n",
       "    }\n",
       "</style>\n",
       "<table border=\"1\" class=\"dataframe\">\n",
       "  <thead>\n",
       "    <tr style=\"text-align: right;\">\n",
       "      <th></th>\n",
       "      <th>tarih</th>\n",
       "      <th>ilce</th>\n",
       "      <th>bildirimsiz_sum</th>\n",
       "      <th>bildirimli_sum</th>\n",
       "      <th>il</th>\n",
       "      <th>weekend</th>\n",
       "    </tr>\n",
       "  </thead>\n",
       "  <tbody>\n",
       "    <tr>\n",
       "      <th>0</th>\n",
       "      <td>2021-01-01</td>\n",
       "      <td>izmir-aliaga</td>\n",
       "      <td>5</td>\n",
       "      <td>0</td>\n",
       "      <td>0</td>\n",
       "      <td>0</td>\n",
       "    </tr>\n",
       "    <tr>\n",
       "      <th>1</th>\n",
       "      <td>2021-01-02</td>\n",
       "      <td>izmir-aliaga</td>\n",
       "      <td>13</td>\n",
       "      <td>0</td>\n",
       "      <td>0</td>\n",
       "      <td>1</td>\n",
       "    </tr>\n",
       "    <tr>\n",
       "      <th>2</th>\n",
       "      <td>2021-01-03</td>\n",
       "      <td>izmir-aliaga</td>\n",
       "      <td>4</td>\n",
       "      <td>0</td>\n",
       "      <td>0</td>\n",
       "      <td>1</td>\n",
       "    </tr>\n",
       "    <tr>\n",
       "      <th>3</th>\n",
       "      <td>2021-01-04</td>\n",
       "      <td>izmir-aliaga</td>\n",
       "      <td>9</td>\n",
       "      <td>0</td>\n",
       "      <td>0</td>\n",
       "      <td>0</td>\n",
       "    </tr>\n",
       "    <tr>\n",
       "      <th>4</th>\n",
       "      <td>2021-01-05</td>\n",
       "      <td>izmir-aliaga</td>\n",
       "      <td>2</td>\n",
       "      <td>0</td>\n",
       "      <td>0</td>\n",
       "      <td>0</td>\n",
       "    </tr>\n",
       "  </tbody>\n",
       "</table>\n",
       "</div>"
      ],
      "text/plain": [
       "       tarih          ilce  bildirimsiz_sum  bildirimli_sum  il  weekend\n",
       "0 2021-01-01  izmir-aliaga                5               0   0        0\n",
       "1 2021-01-02  izmir-aliaga               13               0   0        1\n",
       "2 2021-01-03  izmir-aliaga                4               0   0        1\n",
       "3 2021-01-04  izmir-aliaga                9               0   0        0\n",
       "4 2021-01-05  izmir-aliaga                2               0   0        0"
      ]
     },
     "execution_count": 17,
     "metadata": {},
     "output_type": "execute_result"
    }
   ],
   "source": [
    "combine[0].head()"
   ]
  },
  {
   "cell_type": "markdown",
   "metadata": {},
   "source": [
    "### HOLIDAYS"
   ]
  },
  {
   "cell_type": "code",
   "execution_count": 18,
   "metadata": {
    "execution": {
     "iopub.execute_input": "2024-05-09T20:31:15.924781Z",
     "iopub.status.busy": "2024-05-09T20:31:15.923838Z",
     "iopub.status.idle": "2024-05-09T20:31:15.937476Z",
     "shell.execute_reply": "2024-05-09T20:31:15.936097Z",
     "shell.execute_reply.started": "2024-05-09T20:31:15.924743Z"
    }
   },
   "outputs": [],
   "source": [
    "holidays_df['tarih'] = holidays_df['Yıl'].astype(str) + '-' + holidays_df['Ay'].astype(str) + '-' + holidays_df['Gün'].astype(str)\n",
    "holidays_df['tarih'] = pd.to_datetime(holidays_df['tarih'])\n",
    "holidays_df = holidays_df.drop(['Yıl'], axis=1)\n",
    "holidays_df = holidays_df.drop(['Ay'], axis=1)\n",
    "holidays_df = holidays_df.drop(['Gün'], axis=1)"
   ]
  },
  {
   "cell_type": "code",
   "execution_count": 19,
   "metadata": {
    "execution": {
     "iopub.execute_input": "2024-05-09T20:31:16.355778Z",
     "iopub.status.busy": "2024-05-09T20:31:16.355092Z",
     "iopub.status.idle": "2024-05-09T20:31:16.368775Z",
     "shell.execute_reply": "2024-05-09T20:31:16.367175Z",
     "shell.execute_reply.started": "2024-05-09T20:31:16.355731Z"
    }
   },
   "outputs": [],
   "source": [
    "additional_holidays_df = pd.DataFrame({\n",
    "    'Tatil Adı': ['CB seçim sonrası', 'CB seçim sonrası'], \n",
    "    'tarih': [pd.to_datetime('2023-05-29'), pd.to_datetime('2023-05-15')]\n",
    "})\n",
    "merged_holidays_df = pd.concat([additional_holidays_df, holidays_df], ignore_index=True)"
   ]
  },
  {
   "cell_type": "code",
   "execution_count": 20,
   "metadata": {
    "execution": {
     "iopub.execute_input": "2024-05-09T20:31:16.788993Z",
     "iopub.status.busy": "2024-05-09T20:31:16.788594Z",
     "iopub.status.idle": "2024-05-09T20:31:16.796017Z",
     "shell.execute_reply": "2024-05-09T20:31:16.794738Z",
     "shell.execute_reply.started": "2024-05-09T20:31:16.788963Z"
    }
   },
   "outputs": [],
   "source": [
    "holiday_dict = {\"New Year's Day\" : 'Milli',\n",
    "                \"National Sovereignty and Children's Day\" : 'Milli',\n",
    "                'Labour Day' : 'Milli',\n",
    "                \"Commemoration of Ataturk, Youth and Sports Day\" : 'Milli',\n",
    "                'Democracy and National Unity Day' : 'Milli',\n",
    "                'Victory Day' : 'Milli',\n",
    "                'Republic Day' : 'Milli',\n",
    "                'Ramadan Feast* (*estimated)' : 'Dini',\n",
    "                'Ramadan Feast Holiday* (*estimated)' : 'Dini',\n",
    "                'Sacrifice Feast* (*estimated)' : 'Dini',\n",
    "                'Sacrifice Feast Holiday* (*estimated)' : 'Dini',\n",
    "                \"National Sovereignty and Children's Day; Ramadan Feast Holiday* (*estimated)\" : 'Dini',\n",
    "                'CB seçim sonrası' : 'Milli'\n",
    "               }"
   ]
  },
  {
   "cell_type": "code",
   "execution_count": 21,
   "metadata": {
    "execution": {
     "iopub.execute_input": "2024-05-09T20:31:17.194734Z",
     "iopub.status.busy": "2024-05-09T20:31:17.194303Z",
     "iopub.status.idle": "2024-05-09T20:31:17.220100Z",
     "shell.execute_reply": "2024-05-09T20:31:17.219120Z",
     "shell.execute_reply.started": "2024-05-09T20:31:17.194702Z"
    }
   },
   "outputs": [],
   "source": [
    "for i, df in enumerate(combine):\n",
    "    combine[i] = pd.merge(df, merged_holidays_df, on='tarih', how='left')"
   ]
  },
  {
   "cell_type": "code",
   "execution_count": 22,
   "metadata": {
    "execution": {
     "iopub.execute_input": "2024-05-09T20:31:17.458259Z",
     "iopub.status.busy": "2024-05-09T20:31:17.457426Z",
     "iopub.status.idle": "2024-05-09T20:31:17.472069Z",
     "shell.execute_reply": "2024-05-09T20:31:17.470897Z",
     "shell.execute_reply.started": "2024-05-09T20:31:17.458191Z"
    }
   },
   "outputs": [],
   "source": [
    "for df in combine:\n",
    "    df['tatil_turu'] = df['Tatil Adı'].map(holiday_dict)"
   ]
  },
  {
   "cell_type": "code",
   "execution_count": 23,
   "metadata": {
    "execution": {
     "iopub.execute_input": "2024-05-09T20:31:17.627161Z",
     "iopub.status.busy": "2024-05-09T20:31:17.626739Z",
     "iopub.status.idle": "2024-05-09T20:31:17.829279Z",
     "shell.execute_reply": "2024-05-09T20:31:17.828035Z",
     "shell.execute_reply.started": "2024-05-09T20:31:17.627127Z"
    }
   },
   "outputs": [],
   "source": [
    "for df in combine:\n",
    "    df['il'] = np.where(df['ilce'].str.split('-').str[0] == 'izmir', 0, 1)"
   ]
  },
  {
   "cell_type": "code",
   "execution_count": 24,
   "metadata": {
    "execution": {
     "iopub.execute_input": "2024-05-09T20:31:17.831778Z",
     "iopub.status.busy": "2024-05-09T20:31:17.831300Z",
     "iopub.status.idle": "2024-05-09T20:31:17.861590Z",
     "shell.execute_reply": "2024-05-09T20:31:17.860614Z",
     "shell.execute_reply.started": "2024-05-09T20:31:17.831736Z"
    }
   },
   "outputs": [],
   "source": [
    "for i, df in enumerate(combine):\n",
    "    combine[i] = pd.get_dummies(df, columns=['tatil_turu'])"
   ]
  },
  {
   "cell_type": "code",
   "execution_count": 25,
   "metadata": {
    "execution": {
     "iopub.execute_input": "2024-05-09T20:31:17.972584Z",
     "iopub.status.busy": "2024-05-09T20:31:17.971242Z",
     "iopub.status.idle": "2024-05-09T20:31:17.979513Z",
     "shell.execute_reply": "2024-05-09T20:31:17.978300Z",
     "shell.execute_reply.started": "2024-05-09T20:31:17.972534Z"
    }
   },
   "outputs": [],
   "source": [
    "# test verisinde tatil bulunmadığından dummy verisini elle giriyoruz # Şubat ayı\n",
    "combine[1]['tatil_turu_Dini'] = False # 1 is test_df\n",
    "combine[1]['tatil_turu_Milli'] = False"
   ]
  },
  {
   "cell_type": "code",
   "execution_count": 26,
   "metadata": {
    "execution": {
     "iopub.execute_input": "2024-05-09T20:31:18.140129Z",
     "iopub.status.busy": "2024-05-09T20:31:18.139752Z",
     "iopub.status.idle": "2024-05-09T20:31:18.149737Z",
     "shell.execute_reply": "2024-05-09T20:31:18.148575Z",
     "shell.execute_reply.started": "2024-05-09T20:31:18.140100Z"
    }
   },
   "outputs": [],
   "source": [
    "for i, df in enumerate(combine):\n",
    "    combine[i] = df.drop(['Tatil Adı'], axis=1)"
   ]
  },
  {
   "cell_type": "markdown",
   "metadata": {},
   "source": [
    "### WEATHER"
   ]
  },
  {
   "cell_type": "code",
   "execution_count": 27,
   "metadata": {
    "execution": {
     "iopub.execute_input": "2024-05-09T20:31:19.065587Z",
     "iopub.status.busy": "2024-05-09T20:31:19.064804Z",
     "iopub.status.idle": "2024-05-09T20:31:19.148487Z",
     "shell.execute_reply": "2024-05-09T20:31:19.147446Z",
     "shell.execute_reply.started": "2024-05-09T20:31:19.065549Z"
    }
   },
   "outputs": [],
   "source": [
    "weather_df = weather_df.rename(columns={'date': 'tarih', 'name': 'ilce'})"
   ]
  },
  {
   "cell_type": "code",
   "execution_count": 28,
   "metadata": {
    "execution": {
     "iopub.execute_input": "2024-05-09T20:31:19.387318Z",
     "iopub.status.busy": "2024-05-09T20:31:19.386135Z",
     "iopub.status.idle": "2024-05-09T20:31:19.869101Z",
     "shell.execute_reply": "2024-05-09T20:31:19.867958Z",
     "shell.execute_reply.started": "2024-05-09T20:31:19.387275Z"
    }
   },
   "outputs": [],
   "source": [
    "weather_df['tarih'] = pd.to_datetime(weather_df['tarih'])"
   ]
  },
  {
   "cell_type": "code",
   "execution_count": 29,
   "metadata": {
    "execution": {
     "iopub.execute_input": "2024-05-09T20:31:19.871594Z",
     "iopub.status.busy": "2024-05-09T20:31:19.871254Z",
     "iopub.status.idle": "2024-05-09T20:31:19.904549Z",
     "shell.execute_reply": "2024-05-09T20:31:19.903385Z",
     "shell.execute_reply.started": "2024-05-09T20:31:19.871565Z"
    }
   },
   "outputs": [
    {
     "data": {
      "text/html": [
       "<div>\n",
       "<style scoped>\n",
       "    .dataframe tbody tr th:only-of-type {\n",
       "        vertical-align: middle;\n",
       "    }\n",
       "\n",
       "    .dataframe tbody tr th {\n",
       "        vertical-align: top;\n",
       "    }\n",
       "\n",
       "    .dataframe thead th {\n",
       "        text-align: right;\n",
       "    }\n",
       "</style>\n",
       "<table border=\"1\" class=\"dataframe\">\n",
       "  <thead>\n",
       "    <tr style=\"text-align: right;\">\n",
       "      <th></th>\n",
       "      <th>tarih</th>\n",
       "      <th>lat</th>\n",
       "      <th>lon</th>\n",
       "      <th>t_2m:C</th>\n",
       "      <th>effective_cloud_cover:p</th>\n",
       "      <th>global_rad:W</th>\n",
       "      <th>relative_humidity_2m:p</th>\n",
       "      <th>wind_dir_10m:d</th>\n",
       "      <th>wind_speed_10m:ms</th>\n",
       "      <th>prob_precip_1h:p</th>\n",
       "      <th>t_apparent:C</th>\n",
       "      <th>ilce</th>\n",
       "    </tr>\n",
       "  </thead>\n",
       "  <tbody>\n",
       "    <tr>\n",
       "      <th>27024</th>\n",
       "      <td>2024-02-01</td>\n",
       "      <td>38.6184</td>\n",
       "      <td>28.6712</td>\n",
       "      <td>1.0</td>\n",
       "      <td>0.0</td>\n",
       "      <td>0.0</td>\n",
       "      <td>73.3</td>\n",
       "      <td>126.8</td>\n",
       "      <td>1.6</td>\n",
       "      <td>1.0</td>\n",
       "      <td>-0.7</td>\n",
       "      <td>Manisa-Ahmetli</td>\n",
       "    </tr>\n",
       "    <tr>\n",
       "      <th>54744</th>\n",
       "      <td>2024-02-01</td>\n",
       "      <td>38.9177</td>\n",
       "      <td>27.8366</td>\n",
       "      <td>4.3</td>\n",
       "      <td>22.7</td>\n",
       "      <td>0.0</td>\n",
       "      <td>82.6</td>\n",
       "      <td>13.4</td>\n",
       "      <td>3.9</td>\n",
       "      <td>1.0</td>\n",
       "      <td>1.0</td>\n",
       "      <td>Manisa-Akhisar</td>\n",
       "    </tr>\n",
       "    <tr>\n",
       "      <th>82464</th>\n",
       "      <td>2024-02-01</td>\n",
       "      <td>38.3545</td>\n",
       "      <td>28.5165</td>\n",
       "      <td>3.1</td>\n",
       "      <td>0.0</td>\n",
       "      <td>0.0</td>\n",
       "      <td>86.5</td>\n",
       "      <td>332.7</td>\n",
       "      <td>1.2</td>\n",
       "      <td>1.0</td>\n",
       "      <td>3.1</td>\n",
       "      <td>Manisa-Alasehir</td>\n",
       "    </tr>\n",
       "    <tr>\n",
       "      <th>110184</th>\n",
       "      <td>2024-02-01</td>\n",
       "      <td>39.0473</td>\n",
       "      <td>28.6585</td>\n",
       "      <td>-3.3</td>\n",
       "      <td>0.0</td>\n",
       "      <td>0.0</td>\n",
       "      <td>94.7</td>\n",
       "      <td>27.9</td>\n",
       "      <td>2.2</td>\n",
       "      <td>1.0</td>\n",
       "      <td>-6.6</td>\n",
       "      <td>Manisa-Demirci</td>\n",
       "    </tr>\n",
       "    <tr>\n",
       "      <th>137904</th>\n",
       "      <td>2024-02-01</td>\n",
       "      <td>38.7078</td>\n",
       "      <td>27.9170</td>\n",
       "      <td>2.5</td>\n",
       "      <td>0.0</td>\n",
       "      <td>0.0</td>\n",
       "      <td>89.8</td>\n",
       "      <td>347.6</td>\n",
       "      <td>1.5</td>\n",
       "      <td>1.0</td>\n",
       "      <td>1.1</td>\n",
       "      <td>Manisa-Golmarmara</td>\n",
       "    </tr>\n",
       "  </tbody>\n",
       "</table>\n",
       "</div>"
      ],
      "text/plain": [
       "            tarih      lat      lon  t_2m:C  effective_cloud_cover:p  \\\n",
       "27024  2024-02-01  38.6184  28.6712     1.0                      0.0   \n",
       "54744  2024-02-01  38.9177  27.8366     4.3                     22.7   \n",
       "82464  2024-02-01  38.3545  28.5165     3.1                      0.0   \n",
       "110184 2024-02-01  39.0473  28.6585    -3.3                      0.0   \n",
       "137904 2024-02-01  38.7078  27.9170     2.5                      0.0   \n",
       "\n",
       "        global_rad:W  relative_humidity_2m:p  wind_dir_10m:d  \\\n",
       "27024            0.0                    73.3           126.8   \n",
       "54744            0.0                    82.6            13.4   \n",
       "82464            0.0                    86.5           332.7   \n",
       "110184           0.0                    94.7            27.9   \n",
       "137904           0.0                    89.8           347.6   \n",
       "\n",
       "        wind_speed_10m:ms  prob_precip_1h:p  t_apparent:C               ilce  \n",
       "27024                 1.6               1.0          -0.7     Manisa-Ahmetli  \n",
       "54744                 3.9               1.0           1.0     Manisa-Akhisar  \n",
       "82464                 1.2               1.0           3.1    Manisa-Alasehir  \n",
       "110184                2.2               1.0          -6.6     Manisa-Demirci  \n",
       "137904                1.5               1.0           1.1  Manisa-Golmarmara  "
      ]
     },
     "execution_count": 29,
     "metadata": {},
     "output_type": "execute_result"
    }
   ],
   "source": [
    "weather_df.loc[weather_df['tarih'] == pd.to_datetime('2024-02-01')].head()"
   ]
  },
  {
   "cell_type": "code",
   "execution_count": 30,
   "metadata": {
    "execution": {
     "iopub.execute_input": "2024-05-09T20:31:20.185866Z",
     "iopub.status.busy": "2024-05-09T20:31:20.185435Z",
     "iopub.status.idle": "2024-05-09T20:31:20.194577Z",
     "shell.execute_reply": "2024-05-09T20:31:20.193283Z",
     "shell.execute_reply.started": "2024-05-09T20:31:20.185833Z"
    }
   },
   "outputs": [
    {
     "data": {
      "text/plain": [
       "Index(['tarih', 'lat', 'lon', 't_2m:C', 'effective_cloud_cover:p',\n",
       "       'global_rad:W', 'relative_humidity_2m:p', 'wind_dir_10m:d',\n",
       "       'wind_speed_10m:ms', 'prob_precip_1h:p', 't_apparent:C', 'ilce'],\n",
       "      dtype='object')"
      ]
     },
     "execution_count": 30,
     "metadata": {},
     "output_type": "execute_result"
    }
   ],
   "source": [
    "weather_df.columns"
   ]
  },
  {
   "cell_type": "code",
   "execution_count": 31,
   "metadata": {
    "execution": {
     "iopub.execute_input": "2024-05-09T20:31:21.859643Z",
     "iopub.status.busy": "2024-05-09T20:31:21.859254Z",
     "iopub.status.idle": "2024-05-09T20:31:21.866007Z",
     "shell.execute_reply": "2024-05-09T20:31:21.864721Z",
     "shell.execute_reply.started": "2024-05-09T20:31:21.859614Z"
    }
   },
   "outputs": [],
   "source": [
    "# Saatlik verileri günlük ortalamalara dönüştürmek için tarih sütununu indeks yapın\n",
    "weather_df.set_index('tarih', inplace=True)"
   ]
  },
  {
   "cell_type": "code",
   "execution_count": 32,
   "metadata": {
    "execution": {
     "iopub.execute_input": "2024-05-09T20:31:22.595414Z",
     "iopub.status.busy": "2024-05-09T20:31:22.594946Z",
     "iopub.status.idle": "2024-05-09T20:31:27.694110Z",
     "shell.execute_reply": "2024-05-09T20:31:27.692931Z",
     "shell.execute_reply.started": "2024-05-09T20:31:22.595377Z"
    }
   },
   "outputs": [],
   "source": [
    "# Her bir ilçe ve tarih için saatlik sıcaklık verilerini günlük ortalama olarak gruplayın\n",
    "daily_weather_data = pd.DataFrame()\n",
    "daily_weather_data = weather_df.groupby(['ilce', pd.Grouper(freq='D')])['t_2m:C'].mean().reset_index()\n",
    "daily_weather_data = daily_weather_data.rename(columns={'t_2m:C': 't_2m:C_mean'})\n",
    "daily_weather_data['t_2m:C_max'] = weather_df.groupby(['ilce', pd.Grouper(freq='D')])['t_2m:C'].max().reset_index()['t_2m:C']\n",
    "daily_weather_data['t_2m:C_min'] = weather_df.groupby(['ilce', pd.Grouper(freq='D')])['t_2m:C'].min().reset_index()['t_2m:C']\n",
    "daily_weather_data['effective_cloud_cover:p_mean'] = weather_df.groupby(['ilce', pd.Grouper(freq='D')])['effective_cloud_cover:p'].mean().reset_index()['effective_cloud_cover:p']\n",
    "daily_weather_data['global_rad:W_mean'] = weather_df.groupby(['ilce', pd.Grouper(freq='D')])['global_rad:W'].mean().reset_index()['global_rad:W']\n",
    "daily_weather_data['relative_humidity_2m:p_mean'] = weather_df.groupby(['ilce', pd.Grouper(freq='D')])['relative_humidity_2m:p'].mean().reset_index()['relative_humidity_2m:p']\n",
    "# daily_mean_temperatures['wind_dir_10m:d_mean'] = weather_df.groupby(['ilce', pd.Grouper(freq='D')])['wind_dir_10m:d'].mean().reset_index()['wind_dir_10m:d']\n",
    "daily_weather_data['wind_speed_10m:ms_mean'] = weather_df.groupby(['ilce', pd.Grouper(freq='D')])['wind_speed_10m:ms'].mean().reset_index()['wind_speed_10m:ms']\n",
    "daily_weather_data['wind_speed_10m:ms_max'] = weather_df.groupby(['ilce', pd.Grouper(freq='D')])['wind_speed_10m:ms'].max().reset_index()['wind_speed_10m:ms']"
   ]
  },
  {
   "cell_type": "code",
   "execution_count": 33,
   "metadata": {
    "execution": {
     "iopub.execute_input": "2024-05-09T20:31:27.697159Z",
     "iopub.status.busy": "2024-05-09T20:31:27.696189Z",
     "iopub.status.idle": "2024-05-09T20:31:27.716448Z",
     "shell.execute_reply": "2024-05-09T20:31:27.715223Z",
     "shell.execute_reply.started": "2024-05-09T20:31:27.697118Z"
    }
   },
   "outputs": [],
   "source": [
    "daily_weather_data['ilce'] = daily_weather_data['ilce'].str.lower()"
   ]
  },
  {
   "cell_type": "code",
   "execution_count": 34,
   "metadata": {
    "execution": {
     "iopub.execute_input": "2024-05-09T20:31:27.719076Z",
     "iopub.status.busy": "2024-05-09T20:31:27.718131Z",
     "iopub.status.idle": "2024-05-09T20:31:27.742638Z",
     "shell.execute_reply": "2024-05-09T20:31:27.741369Z",
     "shell.execute_reply.started": "2024-05-09T20:31:27.719033Z"
    }
   },
   "outputs": [
    {
     "data": {
      "text/html": [
       "<div>\n",
       "<style scoped>\n",
       "    .dataframe tbody tr th:only-of-type {\n",
       "        vertical-align: middle;\n",
       "    }\n",
       "\n",
       "    .dataframe tbody tr th {\n",
       "        vertical-align: top;\n",
       "    }\n",
       "\n",
       "    .dataframe thead th {\n",
       "        text-align: right;\n",
       "    }\n",
       "</style>\n",
       "<table border=\"1\" class=\"dataframe\">\n",
       "  <thead>\n",
       "    <tr style=\"text-align: right;\">\n",
       "      <th></th>\n",
       "      <th>ilce</th>\n",
       "      <th>tarih</th>\n",
       "      <th>t_2m:C_mean</th>\n",
       "      <th>t_2m:C_max</th>\n",
       "      <th>t_2m:C_min</th>\n",
       "      <th>effective_cloud_cover:p_mean</th>\n",
       "      <th>global_rad:W_mean</th>\n",
       "      <th>relative_humidity_2m:p_mean</th>\n",
       "      <th>wind_speed_10m:ms_mean</th>\n",
       "      <th>wind_speed_10m:ms_max</th>\n",
       "    </tr>\n",
       "  </thead>\n",
       "  <tbody>\n",
       "    <tr>\n",
       "      <th>0</th>\n",
       "      <td>izmir-aliaga</td>\n",
       "      <td>2021-01-01</td>\n",
       "      <td>13.275000</td>\n",
       "      <td>15.8</td>\n",
       "      <td>11.3</td>\n",
       "      <td>55.045833</td>\n",
       "      <td>73.020833</td>\n",
       "      <td>85.991667</td>\n",
       "      <td>4.266667</td>\n",
       "      <td>6.4</td>\n",
       "    </tr>\n",
       "    <tr>\n",
       "      <th>1</th>\n",
       "      <td>izmir-aliaga</td>\n",
       "      <td>2021-01-02</td>\n",
       "      <td>12.870833</td>\n",
       "      <td>17.2</td>\n",
       "      <td>10.6</td>\n",
       "      <td>36.125000</td>\n",
       "      <td>92.858333</td>\n",
       "      <td>82.137500</td>\n",
       "      <td>2.891667</td>\n",
       "      <td>4.0</td>\n",
       "    </tr>\n",
       "    <tr>\n",
       "      <th>2</th>\n",
       "      <td>izmir-aliaga</td>\n",
       "      <td>2021-01-03</td>\n",
       "      <td>12.633333</td>\n",
       "      <td>15.9</td>\n",
       "      <td>11.1</td>\n",
       "      <td>64.870833</td>\n",
       "      <td>39.266667</td>\n",
       "      <td>79.120833</td>\n",
       "      <td>3.437500</td>\n",
       "      <td>4.1</td>\n",
       "    </tr>\n",
       "    <tr>\n",
       "      <th>3</th>\n",
       "      <td>izmir-aliaga</td>\n",
       "      <td>2021-01-04</td>\n",
       "      <td>13.733333</td>\n",
       "      <td>17.0</td>\n",
       "      <td>11.0</td>\n",
       "      <td>47.783333</td>\n",
       "      <td>78.945833</td>\n",
       "      <td>70.312500</td>\n",
       "      <td>4.608333</td>\n",
       "      <td>6.6</td>\n",
       "    </tr>\n",
       "    <tr>\n",
       "      <th>4</th>\n",
       "      <td>izmir-aliaga</td>\n",
       "      <td>2021-01-05</td>\n",
       "      <td>14.375000</td>\n",
       "      <td>16.8</td>\n",
       "      <td>12.2</td>\n",
       "      <td>30.379167</td>\n",
       "      <td>95.716667</td>\n",
       "      <td>75.220833</td>\n",
       "      <td>3.991667</td>\n",
       "      <td>7.8</td>\n",
       "    </tr>\n",
       "  </tbody>\n",
       "</table>\n",
       "</div>"
      ],
      "text/plain": [
       "           ilce      tarih  t_2m:C_mean  t_2m:C_max  t_2m:C_min  \\\n",
       "0  izmir-aliaga 2021-01-01    13.275000        15.8        11.3   \n",
       "1  izmir-aliaga 2021-01-02    12.870833        17.2        10.6   \n",
       "2  izmir-aliaga 2021-01-03    12.633333        15.9        11.1   \n",
       "3  izmir-aliaga 2021-01-04    13.733333        17.0        11.0   \n",
       "4  izmir-aliaga 2021-01-05    14.375000        16.8        12.2   \n",
       "\n",
       "   effective_cloud_cover:p_mean  global_rad:W_mean  \\\n",
       "0                     55.045833          73.020833   \n",
       "1                     36.125000          92.858333   \n",
       "2                     64.870833          39.266667   \n",
       "3                     47.783333          78.945833   \n",
       "4                     30.379167          95.716667   \n",
       "\n",
       "   relative_humidity_2m:p_mean  wind_speed_10m:ms_mean  wind_speed_10m:ms_max  \n",
       "0                    85.991667                4.266667                    6.4  \n",
       "1                    82.137500                2.891667                    4.0  \n",
       "2                    79.120833                3.437500                    4.1  \n",
       "3                    70.312500                4.608333                    6.6  \n",
       "4                    75.220833                3.991667                    7.8  "
      ]
     },
     "execution_count": 34,
     "metadata": {},
     "output_type": "execute_result"
    }
   ],
   "source": [
    "daily_weather_data.head()"
   ]
  },
  {
   "cell_type": "code",
   "execution_count": 35,
   "metadata": {
    "execution": {
     "iopub.execute_input": "2024-05-09T20:31:27.746069Z",
     "iopub.status.busy": "2024-05-09T20:31:27.745673Z",
     "iopub.status.idle": "2024-05-09T20:31:27.828635Z",
     "shell.execute_reply": "2024-05-09T20:31:27.827715Z",
     "shell.execute_reply.started": "2024-05-09T20:31:27.746023Z"
    }
   },
   "outputs": [],
   "source": [
    "for i, df in enumerate(combine):\n",
    "    combine[i] = pd.merge(df, daily_weather_data, how='left', on=['tarih', 'ilce'])"
   ]
  },
  {
   "cell_type": "code",
   "execution_count": 36,
   "metadata": {
    "execution": {
     "iopub.execute_input": "2024-05-09T20:31:27.830315Z",
     "iopub.status.busy": "2024-05-09T20:31:27.829919Z",
     "iopub.status.idle": "2024-05-09T20:31:27.852345Z",
     "shell.execute_reply": "2024-05-09T20:31:27.851006Z",
     "shell.execute_reply.started": "2024-05-09T20:31:27.830279Z"
    }
   },
   "outputs": [
    {
     "data": {
      "text/html": [
       "<div>\n",
       "<style scoped>\n",
       "    .dataframe tbody tr th:only-of-type {\n",
       "        vertical-align: middle;\n",
       "    }\n",
       "\n",
       "    .dataframe tbody tr th {\n",
       "        vertical-align: top;\n",
       "    }\n",
       "\n",
       "    .dataframe thead th {\n",
       "        text-align: right;\n",
       "    }\n",
       "</style>\n",
       "<table border=\"1\" class=\"dataframe\">\n",
       "  <thead>\n",
       "    <tr style=\"text-align: right;\">\n",
       "      <th></th>\n",
       "      <th>tarih</th>\n",
       "      <th>ilce</th>\n",
       "      <th>bildirimli_sum</th>\n",
       "      <th>il</th>\n",
       "      <th>weekend</th>\n",
       "      <th>tatil_turu_Dini</th>\n",
       "      <th>tatil_turu_Milli</th>\n",
       "      <th>t_2m:C_mean</th>\n",
       "      <th>t_2m:C_max</th>\n",
       "      <th>t_2m:C_min</th>\n",
       "      <th>effective_cloud_cover:p_mean</th>\n",
       "      <th>global_rad:W_mean</th>\n",
       "      <th>relative_humidity_2m:p_mean</th>\n",
       "      <th>wind_speed_10m:ms_mean</th>\n",
       "      <th>wind_speed_10m:ms_max</th>\n",
       "    </tr>\n",
       "  </thead>\n",
       "  <tbody>\n",
       "    <tr>\n",
       "      <th>0</th>\n",
       "      <td>2024-02-01</td>\n",
       "      <td>izmir-aliaga</td>\n",
       "      <td>0</td>\n",
       "      <td>0</td>\n",
       "      <td>0</td>\n",
       "      <td>False</td>\n",
       "      <td>False</td>\n",
       "      <td>7.616667</td>\n",
       "      <td>12.0</td>\n",
       "      <td>5.0</td>\n",
       "      <td>10.037500</td>\n",
       "      <td>142.629167</td>\n",
       "      <td>72.116667</td>\n",
       "      <td>4.941667</td>\n",
       "      <td>7.0</td>\n",
       "    </tr>\n",
       "    <tr>\n",
       "      <th>1</th>\n",
       "      <td>2024-02-01</td>\n",
       "      <td>izmir-bayindir</td>\n",
       "      <td>1</td>\n",
       "      <td>0</td>\n",
       "      <td>0</td>\n",
       "      <td>False</td>\n",
       "      <td>False</td>\n",
       "      <td>6.429167</td>\n",
       "      <td>12.6</td>\n",
       "      <td>2.9</td>\n",
       "      <td>13.562500</td>\n",
       "      <td>142.212500</td>\n",
       "      <td>77.904167</td>\n",
       "      <td>2.212500</td>\n",
       "      <td>2.8</td>\n",
       "    </tr>\n",
       "    <tr>\n",
       "      <th>2</th>\n",
       "      <td>2024-02-01</td>\n",
       "      <td>izmir-bayrakli</td>\n",
       "      <td>0</td>\n",
       "      <td>0</td>\n",
       "      <td>0</td>\n",
       "      <td>False</td>\n",
       "      <td>False</td>\n",
       "      <td>6.954167</td>\n",
       "      <td>12.0</td>\n",
       "      <td>3.9</td>\n",
       "      <td>9.041667</td>\n",
       "      <td>144.870833</td>\n",
       "      <td>76.537500</td>\n",
       "      <td>2.395833</td>\n",
       "      <td>3.3</td>\n",
       "    </tr>\n",
       "    <tr>\n",
       "      <th>3</th>\n",
       "      <td>2024-02-01</td>\n",
       "      <td>izmir-bergama</td>\n",
       "      <td>1</td>\n",
       "      <td>0</td>\n",
       "      <td>0</td>\n",
       "      <td>False</td>\n",
       "      <td>False</td>\n",
       "      <td>6.575000</td>\n",
       "      <td>11.4</td>\n",
       "      <td>2.8</td>\n",
       "      <td>34.620833</td>\n",
       "      <td>133.125000</td>\n",
       "      <td>73.729167</td>\n",
       "      <td>3.670833</td>\n",
       "      <td>5.8</td>\n",
       "    </tr>\n",
       "    <tr>\n",
       "      <th>4</th>\n",
       "      <td>2024-02-01</td>\n",
       "      <td>izmir-bornova</td>\n",
       "      <td>1</td>\n",
       "      <td>0</td>\n",
       "      <td>0</td>\n",
       "      <td>False</td>\n",
       "      <td>False</td>\n",
       "      <td>6.054167</td>\n",
       "      <td>11.3</td>\n",
       "      <td>2.9</td>\n",
       "      <td>12.441667</td>\n",
       "      <td>144.175000</td>\n",
       "      <td>79.058333</td>\n",
       "      <td>2.595833</td>\n",
       "      <td>3.6</td>\n",
       "    </tr>\n",
       "  </tbody>\n",
       "</table>\n",
       "</div>"
      ],
      "text/plain": [
       "       tarih            ilce  bildirimli_sum  il  weekend  tatil_turu_Dini  \\\n",
       "0 2024-02-01    izmir-aliaga               0   0        0            False   \n",
       "1 2024-02-01  izmir-bayindir               1   0        0            False   \n",
       "2 2024-02-01  izmir-bayrakli               0   0        0            False   \n",
       "3 2024-02-01   izmir-bergama               1   0        0            False   \n",
       "4 2024-02-01   izmir-bornova               1   0        0            False   \n",
       "\n",
       "   tatil_turu_Milli  t_2m:C_mean  t_2m:C_max  t_2m:C_min  \\\n",
       "0             False     7.616667        12.0         5.0   \n",
       "1             False     6.429167        12.6         2.9   \n",
       "2             False     6.954167        12.0         3.9   \n",
       "3             False     6.575000        11.4         2.8   \n",
       "4             False     6.054167        11.3         2.9   \n",
       "\n",
       "   effective_cloud_cover:p_mean  global_rad:W_mean  \\\n",
       "0                     10.037500         142.629167   \n",
       "1                     13.562500         142.212500   \n",
       "2                      9.041667         144.870833   \n",
       "3                     34.620833         133.125000   \n",
       "4                     12.441667         144.175000   \n",
       "\n",
       "   relative_humidity_2m:p_mean  wind_speed_10m:ms_mean  wind_speed_10m:ms_max  \n",
       "0                    72.116667                4.941667                    7.0  \n",
       "1                    77.904167                2.212500                    2.8  \n",
       "2                    76.537500                2.395833                    3.3  \n",
       "3                    73.729167                3.670833                    5.8  \n",
       "4                    79.058333                2.595833                    3.6  "
      ]
     },
     "execution_count": 36,
     "metadata": {},
     "output_type": "execute_result"
    }
   ],
   "source": [
    "combine[1].head()"
   ]
  },
  {
   "cell_type": "markdown",
   "metadata": {},
   "source": [
    "#### get rid of ilce"
   ]
  },
  {
   "cell_type": "code",
   "execution_count": 37,
   "metadata": {
    "execution": {
     "iopub.execute_input": "2024-05-09T20:31:27.854343Z",
     "iopub.status.busy": "2024-05-09T20:31:27.853904Z",
     "iopub.status.idle": "2024-05-09T20:31:27.865765Z",
     "shell.execute_reply": "2024-05-09T20:31:27.864632Z",
     "shell.execute_reply.started": "2024-05-09T20:31:27.854305Z"
    }
   },
   "outputs": [],
   "source": [
    "zone_dict = {'izmir-aliaga' : 'izmir-kuzey', 'izmir-bayindir' : 'izmir-doğu', 'izmir-bayrakli' : 'izmir-merkez',\n",
    "           'izmir-bergama': 'izmir-kuzey', 'izmir-bornova': 'izmir-merkez', 'izmir-buca': 'izmir-merkez', 'izmir-cesme': 'izmir-batı',\n",
    "           'izmir-cigli': 'izmir-merkez', 'izmir-dikili': 'izmir-kuzey', 'izmir-foca': 'izmir-batı', 'izmir-gaziemir': 'izmir-merkez',\n",
    "           'izmir-guzelbahce': 'izmir-merkez', 'izmir-karabaglar': 'izmir-merkez', 'izmir-karaburun': 'izmir-batı',\n",
    "           'izmir-karsiyaka': 'izmir-merkez', 'izmir-kemalpasa': 'izmir-doğu', 'izmir-kinik': 'izmir-kuzey', 'izmir-kiraz': 'izmir-doğu',\n",
    "           'izmir-konak': 'izmir-merkez', 'izmir-menderes': 'izmir-batı', 'izmir-menemen': 'izmir-batı', 'izmir-odemis': 'izmir-doğu',\n",
    "           'izmir-seferihisar': 'izmir-batı', 'izmir-tire': 'izmir-doğu', 'izmir-torbali': 'izmir-doğu', 'izmir-urla': 'izmir-batı',\n",
    "           'manisa-akhisar' : 'manisa-batı', 'manisa-alasehir': 'manisa-doğu', 'manisa-demirci': 'manisa-doğu',\n",
    "           'manisa-golmarmara': 'manisa-batı', 'manisa-gordes': 'manisa-doğu', 'manisa-kirkagac': 'manisa-batı',\n",
    "           'manisa-koprubasi': 'manisa-doğu', 'manisa-salihli': 'manisa-doğu', 'manisa-sarigol': 'manisa-doğu',\n",
    "           'manisa-saruhanli': 'manisa-batı', 'manisa-sehzadeler': 'manisa-batı', 'manisa-selendi': 'manisa-doğu',\n",
    "           'manisa-soma': 'manisa-batı', 'manisa-turgutlu': 'manisa-batı', 'manisa-yunusemre': 'manisa-batı',\n",
    "           'izmir-balcova': 'izmir-merkez', 'izmir-beydag': 'izmir-doğu', 'izmir-narlidere': 'izmir-merkez', 'izmir-selcuk': 'izmir-doğu',\n",
    "           'manisa-kula': 'manisa-doğu', 'manisa-ahmetli': 'manisa-batı'\n",
    "               }"
   ]
  },
  {
   "cell_type": "code",
   "execution_count": 38,
   "metadata": {
    "execution": {
     "iopub.execute_input": "2024-05-09T20:31:27.869716Z",
     "iopub.status.busy": "2024-05-09T20:31:27.869365Z",
     "iopub.status.idle": "2024-05-09T20:31:27.891523Z",
     "shell.execute_reply": "2024-05-09T20:31:27.890293Z",
     "shell.execute_reply.started": "2024-05-09T20:31:27.869685Z"
    }
   },
   "outputs": [],
   "source": [
    "for df in combine:\n",
    "    df['ilce_zone'] = df['ilce'].map(zone_dict)"
   ]
  },
  {
   "cell_type": "code",
   "execution_count": 39,
   "metadata": {
    "execution": {
     "iopub.execute_input": "2024-05-09T20:31:27.893233Z",
     "iopub.status.busy": "2024-05-09T20:31:27.892887Z",
     "iopub.status.idle": "2024-05-09T20:31:27.906661Z",
     "shell.execute_reply": "2024-05-09T20:31:27.905487Z",
     "shell.execute_reply.started": "2024-05-09T20:31:27.893181Z"
    }
   },
   "outputs": [
    {
     "data": {
      "text/plain": [
       "array(['izmir-kuzey', 'izmir-doğu', 'izmir-merkez', 'izmir-batı',\n",
       "       'manisa-batı', 'manisa-doğu'], dtype=object)"
      ]
     },
     "execution_count": 39,
     "metadata": {},
     "output_type": "execute_result"
    }
   ],
   "source": [
    "combine[0]['ilce_zone'].unique()"
   ]
  },
  {
   "cell_type": "code",
   "execution_count": 40,
   "metadata": {
    "execution": {
     "iopub.execute_input": "2024-05-09T20:31:27.908409Z",
     "iopub.status.busy": "2024-05-09T20:31:27.908027Z",
     "iopub.status.idle": "2024-05-09T20:31:27.943135Z",
     "shell.execute_reply": "2024-05-09T20:31:27.942079Z",
     "shell.execute_reply.started": "2024-05-09T20:31:27.908380Z"
    }
   },
   "outputs": [],
   "source": [
    "ilce_ortalamalari = train_df.groupby('ilce')['bildirimsiz_sum'].mean()\n",
    "risk_by_ilce = pd.qcut(ilce_ortalamalari, 5)\n",
    "for df in combine:\n",
    "    df['risk_by_ilce'] = risk_by_ilce.loc[df['ilce']].values"
   ]
  },
  {
   "cell_type": "code",
   "execution_count": 41,
   "metadata": {
    "execution": {
     "iopub.execute_input": "2024-05-09T20:31:27.947402Z",
     "iopub.status.busy": "2024-05-09T20:31:27.947027Z",
     "iopub.status.idle": "2024-05-09T20:31:27.959142Z",
     "shell.execute_reply": "2024-05-09T20:31:27.958061Z",
     "shell.execute_reply.started": "2024-05-09T20:31:27.947370Z"
    }
   },
   "outputs": [
    {
     "data": {
      "text/plain": [
       "[(4.374, 5.77], (1.972, 4.374], (5.77, 8.383], (8.383, 12.857], (0.747, 1.972]]\n",
       "Categories (5, interval[float64, right]): [(0.747, 1.972] < (1.972, 4.374] < (4.374, 5.77] < (5.77, 8.383] < (8.383, 12.857]]"
      ]
     },
     "execution_count": 41,
     "metadata": {},
     "output_type": "execute_result"
    }
   ],
   "source": [
    "combine[0]['risk_by_ilce'].unique()"
   ]
  },
  {
   "cell_type": "code",
   "execution_count": 42,
   "metadata": {
    "execution": {
     "iopub.execute_input": "2024-05-09T20:31:27.961038Z",
     "iopub.status.busy": "2024-05-09T20:31:27.960421Z",
     "iopub.status.idle": "2024-05-09T20:31:27.970318Z",
     "shell.execute_reply": "2024-05-09T20:31:27.969236Z",
     "shell.execute_reply.started": "2024-05-09T20:31:27.961004Z"
    }
   },
   "outputs": [],
   "source": [
    "risk_labels = [f'risk seviye {i}' for i in range(len(combine[0]['risk_by_ilce'].unique()))]\n",
    "combine[0]['risk_by_ilce'] = combine[0]['risk_by_ilce'].cat.rename_categories(risk_labels)\n",
    "risk_labels = [f'risk seviye {i}' for i in range(len(combine[1]['risk_by_ilce'].unique()))]\n",
    "combine[1]['risk_by_ilce'] = combine[1]['risk_by_ilce'].cat.rename_categories(risk_labels)"
   ]
  },
  {
   "cell_type": "code",
   "execution_count": 43,
   "metadata": {
    "execution": {
     "iopub.execute_input": "2024-05-09T20:31:27.972194Z",
     "iopub.status.busy": "2024-05-09T20:31:27.971784Z",
     "iopub.status.idle": "2024-05-09T20:31:27.994848Z",
     "shell.execute_reply": "2024-05-09T20:31:27.993734Z",
     "shell.execute_reply.started": "2024-05-09T20:31:27.972154Z"
    }
   },
   "outputs": [],
   "source": [
    "for i, df in enumerate(combine):\n",
    "    combine[i] = pd.get_dummies(df, columns=['risk_by_ilce'])"
   ]
  },
  {
   "cell_type": "code",
   "execution_count": 44,
   "metadata": {
    "execution": {
     "iopub.execute_input": "2024-05-09T20:31:27.996750Z",
     "iopub.status.busy": "2024-05-09T20:31:27.996328Z",
     "iopub.status.idle": "2024-05-09T20:31:28.004484Z",
     "shell.execute_reply": "2024-05-09T20:31:28.003277Z",
     "shell.execute_reply.started": "2024-05-09T20:31:27.996713Z"
    }
   },
   "outputs": [
    {
     "data": {
      "text/plain": [
       "Index(['tarih', 'ilce', 'bildirimsiz_sum', 'bildirimli_sum', 'il', 'weekend',\n",
       "       'tatil_turu_Dini', 'tatil_turu_Milli', 't_2m:C_mean', 't_2m:C_max',\n",
       "       't_2m:C_min', 'effective_cloud_cover:p_mean', 'global_rad:W_mean',\n",
       "       'relative_humidity_2m:p_mean', 'wind_speed_10m:ms_mean',\n",
       "       'wind_speed_10m:ms_max', 'ilce_zone', 'risk_by_ilce_risk seviye 0',\n",
       "       'risk_by_ilce_risk seviye 1', 'risk_by_ilce_risk seviye 2',\n",
       "       'risk_by_ilce_risk seviye 3', 'risk_by_ilce_risk seviye 4'],\n",
       "      dtype='object')"
      ]
     },
     "execution_count": 44,
     "metadata": {},
     "output_type": "execute_result"
    }
   ],
   "source": [
    "combine[0].columns"
   ]
  },
  {
   "cell_type": "code",
   "execution_count": 45,
   "metadata": {
    "execution": {
     "iopub.execute_input": "2024-05-09T20:31:28.006442Z",
     "iopub.status.busy": "2024-05-09T20:31:28.006020Z",
     "iopub.status.idle": "2024-05-09T20:31:28.027943Z",
     "shell.execute_reply": "2024-05-09T20:31:28.026949Z",
     "shell.execute_reply.started": "2024-05-09T20:31:28.006404Z"
    }
   },
   "outputs": [],
   "source": [
    "bins = pd.qcut(combine[0]['bildirimsiz_sum'], 8, labels=False, duplicates='drop')\n",
    "bin_edges = sorted(set(bins))\n",
    "labels = [f'0.{i+1}' for i in range(len(bin_edges))]"
   ]
  },
  {
   "cell_type": "code",
   "execution_count": 46,
   "metadata": {
    "execution": {
     "iopub.execute_input": "2024-05-09T20:31:28.029509Z",
     "iopub.status.busy": "2024-05-09T20:31:28.029160Z",
     "iopub.status.idle": "2024-05-09T20:31:28.041621Z",
     "shell.execute_reply": "2024-05-09T20:31:28.040488Z",
     "shell.execute_reply.started": "2024-05-09T20:31:28.029482Z"
    }
   },
   "outputs": [],
   "source": [
    "combine[0]['risk_level'] = pd.qcut(combine[0]['bildirimsiz_sum'], 8, labels=labels, duplicates='drop')"
   ]
  },
  {
   "cell_type": "code",
   "execution_count": 47,
   "metadata": {
    "execution": {
     "iopub.execute_input": "2024-05-09T20:31:28.043780Z",
     "iopub.status.busy": "2024-05-09T20:31:28.043331Z",
     "iopub.status.idle": "2024-05-09T20:31:28.054535Z",
     "shell.execute_reply": "2024-05-09T20:31:28.053386Z",
     "shell.execute_reply.started": "2024-05-09T20:31:28.043740Z"
    }
   },
   "outputs": [],
   "source": [
    "combine[0] = combine[0].drop(['bildirimsiz_sum'], axis=1)"
   ]
  },
  {
   "cell_type": "code",
   "execution_count": 54,
   "metadata": {
    "execution": {
     "iopub.execute_input": "2024-05-09T20:34:17.841821Z",
     "iopub.status.busy": "2024-05-09T20:34:17.841283Z",
     "iopub.status.idle": "2024-05-09T20:34:17.872369Z",
     "shell.execute_reply": "2024-05-09T20:34:17.871124Z",
     "shell.execute_reply.started": "2024-05-09T20:34:17.841788Z"
    }
   },
   "outputs": [],
   "source": [
    "for i, df in enumerate(combine):\n",
    "    combine[i] = pd.get_dummies(df, columns=['ilce_zone'])"
   ]
  },
  {
   "cell_type": "code",
   "execution_count": 55,
   "metadata": {
    "execution": {
     "iopub.execute_input": "2024-05-09T20:34:20.103176Z",
     "iopub.status.busy": "2024-05-09T20:34:20.102784Z",
     "iopub.status.idle": "2024-05-09T20:34:20.111605Z",
     "shell.execute_reply": "2024-05-09T20:34:20.110368Z",
     "shell.execute_reply.started": "2024-05-09T20:34:20.103148Z"
    }
   },
   "outputs": [
    {
     "data": {
      "text/plain": [
       "27"
      ]
     },
     "execution_count": 55,
     "metadata": {},
     "output_type": "execute_result"
    }
   ],
   "source": [
    "len(combine[0].columns)"
   ]
  },
  {
   "cell_type": "code",
   "execution_count": 56,
   "metadata": {
    "execution": {
     "iopub.execute_input": "2024-05-09T20:34:20.390957Z",
     "iopub.status.busy": "2024-05-09T20:34:20.390532Z",
     "iopub.status.idle": "2024-05-09T20:34:20.398854Z",
     "shell.execute_reply": "2024-05-09T20:34:20.397573Z",
     "shell.execute_reply.started": "2024-05-09T20:34:20.390924Z"
    }
   },
   "outputs": [
    {
     "data": {
      "text/plain": [
       "26"
      ]
     },
     "execution_count": 56,
     "metadata": {},
     "output_type": "execute_result"
    }
   ],
   "source": [
    "len(combine[1].columns)"
   ]
  },
  {
   "cell_type": "code",
   "execution_count": 57,
   "metadata": {
    "execution": {
     "iopub.execute_input": "2024-05-09T20:34:20.753305Z",
     "iopub.status.busy": "2024-05-09T20:34:20.752851Z",
     "iopub.status.idle": "2024-05-09T20:34:20.776442Z",
     "shell.execute_reply": "2024-05-09T20:34:20.775196Z",
     "shell.execute_reply.started": "2024-05-09T20:34:20.753270Z"
    }
   },
   "outputs": [
    {
     "name": "stdout",
     "output_type": "stream",
     "text": [
      "<class 'pandas.core.frame.DataFrame'>\n",
      "RangeIndex: 52922 entries, 0 to 52921\n",
      "Data columns (total 27 columns):\n",
      " #   Column                        Non-Null Count  Dtype         \n",
      "---  ------                        --------------  -----         \n",
      " 0   tarih                         52922 non-null  datetime64[ns]\n",
      " 1   ilce                          52922 non-null  object        \n",
      " 2   bildirimli_sum                52922 non-null  int64         \n",
      " 3   il                            52922 non-null  int64         \n",
      " 4   weekend                       52922 non-null  int64         \n",
      " 5   tatil_turu_Dini               52922 non-null  bool          \n",
      " 6   tatil_turu_Milli              52922 non-null  bool          \n",
      " 7   t_2m:C_mean                   52922 non-null  float64       \n",
      " 8   t_2m:C_max                    52922 non-null  float64       \n",
      " 9   t_2m:C_min                    52922 non-null  float64       \n",
      " 10  effective_cloud_cover:p_mean  52922 non-null  float64       \n",
      " 11  global_rad:W_mean             52922 non-null  float64       \n",
      " 12  relative_humidity_2m:p_mean   52922 non-null  float64       \n",
      " 13  wind_speed_10m:ms_mean        52922 non-null  float64       \n",
      " 14  wind_speed_10m:ms_max         52922 non-null  float64       \n",
      " 15  risk_by_ilce_risk seviye 0    52922 non-null  bool          \n",
      " 16  risk_by_ilce_risk seviye 1    52922 non-null  bool          \n",
      " 17  risk_by_ilce_risk seviye 2    52922 non-null  bool          \n",
      " 18  risk_by_ilce_risk seviye 3    52922 non-null  bool          \n",
      " 19  risk_by_ilce_risk seviye 4    52922 non-null  bool          \n",
      " 20  risk_level                    52922 non-null  category      \n",
      " 21  ilce_zone_izmir-batı          52922 non-null  bool          \n",
      " 22  ilce_zone_izmir-doğu          52922 non-null  bool          \n",
      " 23  ilce_zone_izmir-kuzey         52922 non-null  bool          \n",
      " 24  ilce_zone_izmir-merkez        52922 non-null  bool          \n",
      " 25  ilce_zone_manisa-batı         52922 non-null  bool          \n",
      " 26  ilce_zone_manisa-doğu         52922 non-null  bool          \n",
      "dtypes: bool(13), category(1), datetime64[ns](1), float64(8), int64(3), object(1)\n",
      "memory usage: 6.0+ MB\n"
     ]
    }
   ],
   "source": [
    "combine[0].info()"
   ]
  },
  {
   "cell_type": "markdown",
   "metadata": {},
   "source": [
    "# ---------------"
   ]
  },
  {
   "cell_type": "code",
   "execution_count": 58,
   "metadata": {
    "execution": {
     "iopub.execute_input": "2024-05-09T20:34:25.962113Z",
     "iopub.status.busy": "2024-05-09T20:34:25.960928Z",
     "iopub.status.idle": "2024-05-09T20:34:25.967763Z",
     "shell.execute_reply": "2024-05-09T20:34:25.966475Z",
     "shell.execute_reply.started": "2024-05-09T20:34:25.962070Z"
    }
   },
   "outputs": [],
   "source": [
    "train_df = combine[0]\n",
    "test_df = combine[1]"
   ]
  },
  {
   "cell_type": "code",
   "execution_count": 59,
   "metadata": {
    "execution": {
     "iopub.execute_input": "2024-05-09T20:34:26.488150Z",
     "iopub.status.busy": "2024-05-09T20:34:26.487724Z",
     "iopub.status.idle": "2024-05-09T20:34:26.501879Z",
     "shell.execute_reply": "2024-05-09T20:34:26.500725Z",
     "shell.execute_reply.started": "2024-05-09T20:34:26.488116Z"
    }
   },
   "outputs": [],
   "source": [
    "train_df = train_df.drop(['ilce'], axis=1)\n",
    "test_df = test_df.drop(['ilce'], axis=1)\n",
    "train_df = train_df.drop(['tarih'], axis=1)\n",
    "test_df = test_df.drop(['tarih'], axis=1)"
   ]
  },
  {
   "cell_type": "code",
   "execution_count": 60,
   "metadata": {
    "execution": {
     "iopub.execute_input": "2024-05-09T20:34:27.264411Z",
     "iopub.status.busy": "2024-05-09T20:34:27.263543Z",
     "iopub.status.idle": "2024-05-09T20:34:27.278950Z",
     "shell.execute_reply": "2024-05-09T20:34:27.277711Z",
     "shell.execute_reply.started": "2024-05-09T20:34:27.264364Z"
    }
   },
   "outputs": [
    {
     "name": "stdout",
     "output_type": "stream",
     "text": [
      "<class 'pandas.core.frame.DataFrame'>\n",
      "RangeIndex: 1363 entries, 0 to 1362\n",
      "Data columns (total 24 columns):\n",
      " #   Column                        Non-Null Count  Dtype  \n",
      "---  ------                        --------------  -----  \n",
      " 0   bildirimli_sum                1363 non-null   int64  \n",
      " 1   il                            1363 non-null   int64  \n",
      " 2   weekend                       1363 non-null   int64  \n",
      " 3   tatil_turu_Dini               1363 non-null   bool   \n",
      " 4   tatil_turu_Milli              1363 non-null   bool   \n",
      " 5   t_2m:C_mean                   1363 non-null   float64\n",
      " 6   t_2m:C_max                    1363 non-null   float64\n",
      " 7   t_2m:C_min                    1363 non-null   float64\n",
      " 8   effective_cloud_cover:p_mean  1363 non-null   float64\n",
      " 9   global_rad:W_mean             1363 non-null   float64\n",
      " 10  relative_humidity_2m:p_mean   1363 non-null   float64\n",
      " 11  wind_speed_10m:ms_mean        1363 non-null   float64\n",
      " 12  wind_speed_10m:ms_max         1363 non-null   float64\n",
      " 13  risk_by_ilce_risk seviye 0    1363 non-null   bool   \n",
      " 14  risk_by_ilce_risk seviye 1    1363 non-null   bool   \n",
      " 15  risk_by_ilce_risk seviye 2    1363 non-null   bool   \n",
      " 16  risk_by_ilce_risk seviye 3    1363 non-null   bool   \n",
      " 17  risk_by_ilce_risk seviye 4    1363 non-null   bool   \n",
      " 18  ilce_zone_izmir-batı          1363 non-null   bool   \n",
      " 19  ilce_zone_izmir-doğu          1363 non-null   bool   \n",
      " 20  ilce_zone_izmir-kuzey         1363 non-null   bool   \n",
      " 21  ilce_zone_izmir-merkez        1363 non-null   bool   \n",
      " 22  ilce_zone_manisa-batı         1363 non-null   bool   \n",
      " 23  ilce_zone_manisa-doğu         1363 non-null   bool   \n",
      "dtypes: bool(13), float64(8), int64(3)\n",
      "memory usage: 134.6 KB\n"
     ]
    }
   ],
   "source": [
    "test_df.info()"
   ]
  },
  {
   "cell_type": "code",
   "execution_count": 61,
   "metadata": {
    "execution": {
     "iopub.execute_input": "2024-05-09T20:34:28.609114Z",
     "iopub.status.busy": "2024-05-09T20:34:28.608352Z",
     "iopub.status.idle": "2024-05-09T20:34:28.626630Z",
     "shell.execute_reply": "2024-05-09T20:34:28.625053Z",
     "shell.execute_reply.started": "2024-05-09T20:34:28.609074Z"
    }
   },
   "outputs": [
    {
     "name": "stdout",
     "output_type": "stream",
     "text": [
      "<class 'pandas.core.frame.DataFrame'>\n",
      "RangeIndex: 52922 entries, 0 to 52921\n",
      "Data columns (total 25 columns):\n",
      " #   Column                        Non-Null Count  Dtype   \n",
      "---  ------                        --------------  -----   \n",
      " 0   bildirimli_sum                52922 non-null  int64   \n",
      " 1   il                            52922 non-null  int64   \n",
      " 2   weekend                       52922 non-null  int64   \n",
      " 3   tatil_turu_Dini               52922 non-null  bool    \n",
      " 4   tatil_turu_Milli              52922 non-null  bool    \n",
      " 5   t_2m:C_mean                   52922 non-null  float64 \n",
      " 6   t_2m:C_max                    52922 non-null  float64 \n",
      " 7   t_2m:C_min                    52922 non-null  float64 \n",
      " 8   effective_cloud_cover:p_mean  52922 non-null  float64 \n",
      " 9   global_rad:W_mean             52922 non-null  float64 \n",
      " 10  relative_humidity_2m:p_mean   52922 non-null  float64 \n",
      " 11  wind_speed_10m:ms_mean        52922 non-null  float64 \n",
      " 12  wind_speed_10m:ms_max         52922 non-null  float64 \n",
      " 13  risk_by_ilce_risk seviye 0    52922 non-null  bool    \n",
      " 14  risk_by_ilce_risk seviye 1    52922 non-null  bool    \n",
      " 15  risk_by_ilce_risk seviye 2    52922 non-null  bool    \n",
      " 16  risk_by_ilce_risk seviye 3    52922 non-null  bool    \n",
      " 17  risk_by_ilce_risk seviye 4    52922 non-null  bool    \n",
      " 18  risk_level                    52922 non-null  category\n",
      " 19  ilce_zone_izmir-batı          52922 non-null  bool    \n",
      " 20  ilce_zone_izmir-doğu          52922 non-null  bool    \n",
      " 21  ilce_zone_izmir-kuzey         52922 non-null  bool    \n",
      " 22  ilce_zone_izmir-merkez        52922 non-null  bool    \n",
      " 23  ilce_zone_manisa-batı         52922 non-null  bool    \n",
      " 24  ilce_zone_manisa-doğu         52922 non-null  bool    \n",
      "dtypes: bool(13), category(1), float64(8), int64(3)\n",
      "memory usage: 5.1 MB\n"
     ]
    }
   ],
   "source": [
    "train_df.info()"
   ]
  },
  {
   "cell_type": "markdown",
   "metadata": {},
   "source": [
    "## Classification"
   ]
  },
  {
   "cell_type": "code",
   "execution_count": 62,
   "metadata": {
    "execution": {
     "iopub.execute_input": "2024-05-09T20:34:30.832048Z",
     "iopub.status.busy": "2024-05-09T20:34:30.831242Z",
     "iopub.status.idle": "2024-05-09T20:34:47.135692Z",
     "shell.execute_reply": "2024-05-09T20:34:47.134331Z",
     "shell.execute_reply.started": "2024-05-09T20:34:30.832008Z"
    }
   },
   "outputs": [],
   "source": [
    "from sklearn.ensemble import RandomForestClassifier\n",
    "from sklearn.metrics import classification_report\n",
    "\n",
    "X_train = train_df.drop(columns=['risk_level'])\n",
    "y_train = train_df['risk_level']\n",
    "model = RandomForestClassifier() \n",
    "model.fit(X_train, y_train)\n",
    "\n",
    "test_pred = model.predict(test_df)"
   ]
  },
  {
   "cell_type": "code",
   "execution_count": 63,
   "metadata": {
    "execution": {
     "iopub.execute_input": "2024-05-09T20:34:54.139682Z",
     "iopub.status.busy": "2024-05-09T20:34:54.139266Z",
     "iopub.status.idle": "2024-05-09T20:34:54.147084Z",
     "shell.execute_reply": "2024-05-09T20:34:54.145913Z",
     "shell.execute_reply.started": "2024-05-09T20:34:54.139652Z"
    }
   },
   "outputs": [
    {
     "data": {
      "text/plain": [
       "array(['0.3', '0.2', '0.1', ..., '0.1', '0.1', '0.1'], dtype=object)"
      ]
     },
     "execution_count": 63,
     "metadata": {},
     "output_type": "execute_result"
    }
   ],
   "source": [
    "test_pred"
   ]
  },
  {
   "cell_type": "markdown",
   "metadata": {},
   "source": [
    "# Modelling"
   ]
  },
  {
   "cell_type": "code",
   "execution_count": 64,
   "metadata": {
    "execution": {
     "iopub.execute_input": "2024-05-09T20:35:38.794471Z",
     "iopub.status.busy": "2024-05-09T20:35:38.793434Z",
     "iopub.status.idle": "2024-05-09T20:35:38.801575Z",
     "shell.execute_reply": "2024-05-09T20:35:38.800446Z",
     "shell.execute_reply.started": "2024-05-09T20:35:38.794432Z"
    }
   },
   "outputs": [],
   "source": [
    "train_for_time_series = train_for_time_series.drop(['bildirimli_sum'], axis=1)"
   ]
  },
  {
   "cell_type": "code",
   "execution_count": 65,
   "metadata": {
    "execution": {
     "iopub.execute_input": "2024-05-09T20:35:38.999917Z",
     "iopub.status.busy": "2024-05-09T20:35:38.999483Z",
     "iopub.status.idle": "2024-05-09T20:35:39.012118Z",
     "shell.execute_reply": "2024-05-09T20:35:39.010978Z",
     "shell.execute_reply.started": "2024-05-09T20:35:38.999884Z"
    }
   },
   "outputs": [
    {
     "data": {
      "text/html": [
       "<div>\n",
       "<style scoped>\n",
       "    .dataframe tbody tr th:only-of-type {\n",
       "        vertical-align: middle;\n",
       "    }\n",
       "\n",
       "    .dataframe tbody tr th {\n",
       "        vertical-align: top;\n",
       "    }\n",
       "\n",
       "    .dataframe thead th {\n",
       "        text-align: right;\n",
       "    }\n",
       "</style>\n",
       "<table border=\"1\" class=\"dataframe\">\n",
       "  <thead>\n",
       "    <tr style=\"text-align: right;\">\n",
       "      <th></th>\n",
       "      <th>tarih</th>\n",
       "      <th>ilce</th>\n",
       "      <th>bildirimsiz_sum</th>\n",
       "    </tr>\n",
       "  </thead>\n",
       "  <tbody>\n",
       "    <tr>\n",
       "      <th>0</th>\n",
       "      <td>2021-01-01</td>\n",
       "      <td>izmir-aliaga</td>\n",
       "      <td>5</td>\n",
       "    </tr>\n",
       "    <tr>\n",
       "      <th>1</th>\n",
       "      <td>2021-01-02</td>\n",
       "      <td>izmir-aliaga</td>\n",
       "      <td>13</td>\n",
       "    </tr>\n",
       "    <tr>\n",
       "      <th>2</th>\n",
       "      <td>2021-01-03</td>\n",
       "      <td>izmir-aliaga</td>\n",
       "      <td>4</td>\n",
       "    </tr>\n",
       "    <tr>\n",
       "      <th>3</th>\n",
       "      <td>2021-01-04</td>\n",
       "      <td>izmir-aliaga</td>\n",
       "      <td>9</td>\n",
       "    </tr>\n",
       "    <tr>\n",
       "      <th>4</th>\n",
       "      <td>2021-01-05</td>\n",
       "      <td>izmir-aliaga</td>\n",
       "      <td>2</td>\n",
       "    </tr>\n",
       "  </tbody>\n",
       "</table>\n",
       "</div>"
      ],
      "text/plain": [
       "        tarih          ilce  bildirimsiz_sum\n",
       "0  2021-01-01  izmir-aliaga                5\n",
       "1  2021-01-02  izmir-aliaga               13\n",
       "2  2021-01-03  izmir-aliaga                4\n",
       "3  2021-01-04  izmir-aliaga                9\n",
       "4  2021-01-05  izmir-aliaga                2"
      ]
     },
     "execution_count": 65,
     "metadata": {},
     "output_type": "execute_result"
    }
   ],
   "source": [
    "train_for_time_series.head()"
   ]
  },
  {
   "cell_type": "code",
   "execution_count": null,
   "metadata": {
    "_kg_hide-input": true,
    "_kg_hide-output": false
   },
   "outputs": [],
   "source": [
    "# !pip install scikit-learn==1.4.0\n",
    "!pip install autogluon==1.1.0"
   ]
  },
  {
   "cell_type": "code",
   "execution_count": 67,
   "metadata": {
    "execution": {
     "iopub.execute_input": "2024-05-09T20:37:43.987234Z",
     "iopub.status.busy": "2024-05-09T20:37:43.986705Z",
     "iopub.status.idle": "2024-05-09T20:38:00.084154Z",
     "shell.execute_reply": "2024-05-09T20:38:00.082761Z",
     "shell.execute_reply.started": "2024-05-09T20:37:43.987167Z"
    }
   },
   "outputs": [
    {
     "name": "stdout",
     "output_type": "stream",
     "text": [
      "Name: autogluon\n",
      "Version: 1.1.0\n",
      "Summary: Fast and Accurate ML in 3 Lines of Code\n",
      "Home-page: https://github.com/autogluon/autogluon\n",
      "Author: AutoGluon Community\n",
      "Author-email: \n",
      "License: Apache-2.0\n",
      "Location: /opt/conda/lib/python3.10/site-packages\n",
      "Requires: autogluon.core, autogluon.features, autogluon.multimodal, autogluon.tabular, autogluon.timeseries\n",
      "Required-by: \n"
     ]
    }
   ],
   "source": [
    "!pip show autogluon"
   ]
  },
  {
   "cell_type": "code",
   "execution_count": null,
   "metadata": {},
   "outputs": [],
   "source": [
    "from autogluon.timeseries import TimeSeriesDataFrame, TimeSeriesPredictor\n",
    "\n",
    "train_tsdf = TimeSeriesDataFrame.from_data_frame(\n",
    "    train_df,\n",
    "    id_column=\"ilce\",\n",
    "    timestamp_column=\"tarih\"\n",
    ")\n",
    "\n",
    "predictor = TimeSeriesPredictor(\n",
    "    freq=\"D\",\n",
    "    prediction_length=29,\n",
    "    path=\"autogluon-m4-hourly_1\",\n",
    "    target=\"bildirimsiz_sum\",\n",
    "    eval_metric=\"MASE\",\n",
    ")\n",
    "\n",
    "predictor.fit(\n",
    "    train_tsdf,\n",
    "    presets=\"medium_quality\",\n",
    "    time_limit=600,\n",
    ")"
   ]
  },
  {
   "cell_type": "code",
   "execution_count": null,
   "metadata": {
    "execution": {
     "iopub.execute_input": "2024-05-07T11:44:03.488227Z",
     "iopub.status.busy": "2024-05-07T11:44:03.487618Z",
     "iopub.status.idle": "2024-05-07T11:44:03.496258Z",
     "shell.execute_reply": "2024-05-07T11:44:03.494962Z",
     "shell.execute_reply.started": "2024-05-07T11:44:03.488177Z"
    }
   },
   "outputs": [],
   "source": [
    "predictor"
   ]
  },
  {
   "cell_type": "code",
   "execution_count": null,
   "metadata": {
    "execution": {
     "iopub.execute_input": "2024-05-07T11:44:08.044907Z",
     "iopub.status.busy": "2024-05-07T11:44:08.043689Z",
     "iopub.status.idle": "2024-05-07T11:44:08.988985Z",
     "shell.execute_reply": "2024-05-07T11:44:08.987716Z",
     "shell.execute_reply.started": "2024-05-07T11:44:08.044836Z"
    }
   },
   "outputs": [],
   "source": [
    "predictions = predictor.predict(train_tsdf)"
   ]
  },
  {
   "cell_type": "code",
   "execution_count": null,
   "metadata": {
    "execution": {
     "iopub.execute_input": "2024-05-07T11:44:13.157575Z",
     "iopub.status.busy": "2024-05-07T11:44:13.157147Z",
     "iopub.status.idle": "2024-05-07T11:44:13.184486Z",
     "shell.execute_reply": "2024-05-07T11:44:13.183013Z",
     "shell.execute_reply.started": "2024-05-07T11:44:13.157542Z"
    }
   },
   "outputs": [],
   "source": [
    "predictions"
   ]
  },
  {
   "cell_type": "code",
   "execution_count": null,
   "metadata": {
    "execution": {
     "iopub.execute_input": "2024-05-07T11:44:53.522186Z",
     "iopub.status.busy": "2024-05-07T11:44:53.521730Z",
     "iopub.status.idle": "2024-05-07T11:44:53.535407Z",
     "shell.execute_reply": "2024-05-07T11:44:53.534096Z",
     "shell.execute_reply.started": "2024-05-07T11:44:53.522144Z"
    }
   },
   "outputs": [],
   "source": [
    "sample_submission"
   ]
  },
  {
   "cell_type": "code",
   "execution_count": null,
   "metadata": {
    "execution": {
     "iopub.execute_input": "2024-05-07T11:45:00.227261Z",
     "iopub.status.busy": "2024-05-07T11:45:00.226827Z",
     "iopub.status.idle": "2024-05-07T11:45:00.238579Z",
     "shell.execute_reply": "2024-05-07T11:45:00.237434Z",
     "shell.execute_reply.started": "2024-05-07T11:45:00.227227Z"
    }
   },
   "outputs": [],
   "source": [
    "predictions.loc['izmir-aliaga', '2024-02-01']"
   ]
  },
  {
   "cell_type": "code",
   "execution_count": null,
   "metadata": {
    "execution": {
     "iopub.execute_input": "2024-05-07T11:48:13.696129Z",
     "iopub.status.busy": "2024-05-07T11:48:13.695686Z",
     "iopub.status.idle": "2024-05-07T11:48:15.484174Z",
     "shell.execute_reply": "2024-05-07T11:48:15.482917Z",
     "shell.execute_reply.started": "2024-05-07T11:48:13.696099Z"
    }
   },
   "outputs": [],
   "source": [
    "for i, _id in enumerate(sample_submission['unique_id']):\n",
    "    tarih = _id[0:10]\n",
    "    ilce = _id[11:len(_id)]\n",
    "    try:\n",
    "        sample_submission.loc[sample_submission['unique_id'] == _id, 'bildirimsiz_sum'] = predictions.loc[ilce, tarih][float(test_pred[i])] # 0: mean\n",
    "    except:\n",
    "        print(ilce, tarih)\n",
    "        sample_submission.loc[sample_submission['unique_id'] == _id, 'bildirimsiz_sum'] = 3"
   ]
  },
  {
   "cell_type": "code",
   "execution_count": null,
   "metadata": {
    "execution": {
     "iopub.execute_input": "2024-05-07T11:48:29.712018Z",
     "iopub.status.busy": "2024-05-07T11:48:29.711599Z",
     "iopub.status.idle": "2024-05-07T11:48:29.718700Z",
     "shell.execute_reply": "2024-05-07T11:48:29.717572Z",
     "shell.execute_reply.started": "2024-05-07T11:48:29.711986Z"
    }
   },
   "outputs": [],
   "source": [
    "sample_submission.loc[sample_submission['bildirimsiz_sum'] < 0, 'bildirimsiz_sum'] = 0"
   ]
  },
  {
   "cell_type": "code",
   "execution_count": null,
   "metadata": {
    "execution": {
     "iopub.execute_input": "2024-05-07T11:48:30.487034Z",
     "iopub.status.busy": "2024-05-07T11:48:30.486630Z",
     "iopub.status.idle": "2024-05-07T11:48:30.503798Z",
     "shell.execute_reply": "2024-05-07T11:48:30.502828Z",
     "shell.execute_reply.started": "2024-05-07T11:48:30.486994Z"
    }
   },
   "outputs": [],
   "source": [
    "output = pd.DataFrame({\n",
    "    'unique_id': sample_submission['unique_id'],\n",
    "    'bildirimsiz_sum': sample_submission['bildirimsiz_sum']\n",
    "})\n",
    "output.to_csv('kaggle_base_comprehension_sub.csv', index=False)\n",
    "print(\"Your submission was successfully saved!\")"
   ]
  },
  {
   "cell_type": "code",
   "execution_count": null,
   "metadata": {},
   "outputs": [],
   "source": []
  }
 ],
 "metadata": {
  "kaggle": {
   "accelerator": "none",
   "dataSources": [
    {
     "databundleVersionId": 8421693,
     "sourceId": 77202,
     "sourceType": "competition"
    }
   ],
   "dockerImageVersionId": 30698,
   "isGpuEnabled": false,
   "isInternetEnabled": true,
   "language": "python",
   "sourceType": "notebook"
  },
  "kernelspec": {
   "display_name": "Python 3 (ipykernel)",
   "language": "python",
   "name": "python3"
  },
  "language_info": {
   "codemirror_mode": {
    "name": "ipython",
    "version": 3
   },
   "file_extension": ".py",
   "mimetype": "text/x-python",
   "name": "python",
   "nbconvert_exporter": "python",
   "pygments_lexer": "ipython3",
   "version": "3.11.4"
  }
 },
 "nbformat": 4,
 "nbformat_minor": 4
}
