{
 "cells": [
  {
   "cell_type": "code",
   "execution_count": 1,
   "id": "22393be9",
   "metadata": {
    "_cell_guid": "b1076dfc-b9ad-4769-8c92-a6c4dae69d19",
    "_uuid": "8f2839f25d086af736a60e9eeb907d3b93b6e0e5",
    "execution": {
     "iopub.execute_input": "2024-05-07T11:48:54.382083Z",
     "iopub.status.busy": "2024-05-07T11:48:54.381676Z",
     "iopub.status.idle": "2024-05-07T11:48:55.474051Z",
     "shell.execute_reply": "2024-05-07T11:48:55.472318Z"
    },
    "papermill": {
     "duration": 1.106146,
     "end_time": "2024-05-07T11:48:55.476868",
     "exception": false,
     "start_time": "2024-05-07T11:48:54.370722",
     "status": "completed"
    },
    "tags": []
   },
   "outputs": [
    {
     "name": "stdout",
     "output_type": "stream",
     "text": [
      "/kaggle/input/gdz-elektrik-datathon-2024/holidays.csv\n",
      "/kaggle/input/gdz-elektrik-datathon-2024/sample_submission.csv\n",
      "/kaggle/input/gdz-elektrik-datathon-2024/weather.csv\n",
      "/kaggle/input/gdz-elektrik-datathon-2024/train.csv\n",
      "/kaggle/input/gdz-elektrik-datathon-2024/test.csv\n"
     ]
    }
   ],
   "source": [
    "# This Python 3 environment comes with many helpful analytics libraries installed\n",
    "# It is defined by the kaggle/python Docker image: https://github.com/kaggle/docker-python\n",
    "# For example, here's several helpful packages to load\n",
    "\n",
    "import numpy as np # linear algebra\n",
    "import pandas as pd # data processing, CSV file I/O (e.g. pd.read_csv)\n",
    "\n",
    "# Input data files are available in the read-only \"../input/\" directory\n",
    "# For example, running this (by clicking run or pressing Shift+Enter) will list all files under the input directory\n",
    "\n",
    "import os\n",
    "for dirname, _, filenames in os.walk('/kaggle/input'):\n",
    "    for filename in filenames:\n",
    "        print(os.path.join(dirname, filename))\n",
    "\n",
    "# You can write up to 20GB to the current directory (/kaggle/working/) that gets preserved as output when you create a version using \"Save & Run All\" \n",
    "# You can also write temporary files to /kaggle/temp/, but they won't be saved outside of the current session"
   ]
  },
  {
   "cell_type": "code",
   "execution_count": 2,
   "id": "a0554558",
   "metadata": {
    "execution": {
     "iopub.execute_input": "2024-05-07T11:48:55.496126Z",
     "iopub.status.busy": "2024-05-07T11:48:55.495625Z",
     "iopub.status.idle": "2024-05-07T11:48:57.120064Z",
     "shell.execute_reply": "2024-05-07T11:48:57.118801Z"
    },
    "papermill": {
     "duration": 1.637465,
     "end_time": "2024-05-07T11:48:57.122964",
     "exception": false,
     "start_time": "2024-05-07T11:48:55.485499",
     "status": "completed"
    },
    "tags": []
   },
   "outputs": [],
   "source": [
    "# from mpl_toolkits.mplot3d import Axes3D\n",
    "# from sklearn.preprocessing import StandardScaler\n",
    "import matplotlib.pyplot as plt # plotting\n",
    "import numpy as np # linear algebra\n",
    "import os # accessing directory structure\n",
    "import pandas as pd # data processing, CSV file I/O (e.g. pd.read_csv)\n",
    "import seaborn as sns\n",
    "# pd.options.mode.chained_assignment = None  # default='warn'\n",
    "# import warnings\n",
    "# warnings.filterwarnings('ignore')\n",
    "from datetime import datetime"
   ]
  },
  {
   "cell_type": "code",
   "execution_count": 3,
   "id": "711eadd5",
   "metadata": {
    "execution": {
     "iopub.execute_input": "2024-05-07T11:48:57.143879Z",
     "iopub.status.busy": "2024-05-07T11:48:57.143455Z",
     "iopub.status.idle": "2024-05-07T11:49:01.227090Z",
     "shell.execute_reply": "2024-05-07T11:49:01.225620Z"
    },
    "papermill": {
     "duration": 4.098493,
     "end_time": "2024-05-07T11:49:01.230161",
     "exception": false,
     "start_time": "2024-05-07T11:48:57.131668",
     "status": "completed"
    },
    "tags": []
   },
   "outputs": [],
   "source": [
    "train_df = pd.read_csv(r\"/kaggle/input/gdz-elektrik-datathon-2024/train.csv\")\n",
    "test_df = pd.read_csv(r\"/kaggle/input/gdz-elektrik-datathon-2024/test.csv\")\n",
    "holidays_df = pd.read_csv(r\"/kaggle/input/gdz-elektrik-datathon-2024/holidays.csv\")\n",
    "weather_df = pd.read_csv(r\"/kaggle/input/gdz-elektrik-datathon-2024/weather.csv\")\n",
    "sample_submission = pd.read_csv(r\"/kaggle/input/gdz-elektrik-datathon-2024/sample_submission.csv\")"
   ]
  },
  {
   "cell_type": "code",
   "execution_count": 4,
   "id": "7c5d7dfd",
   "metadata": {
    "execution": {
     "iopub.execute_input": "2024-05-07T11:49:01.248884Z",
     "iopub.status.busy": "2024-05-07T11:49:01.248459Z",
     "iopub.status.idle": "2024-05-07T11:49:01.713019Z",
     "shell.execute_reply": "2024-05-07T11:49:01.711500Z"
    },
    "papermill": {
     "duration": 0.477173,
     "end_time": "2024-05-07T11:49:01.715917",
     "exception": false,
     "start_time": "2024-05-07T11:49:01.238744",
     "status": "completed"
    },
    "tags": []
   },
   "outputs": [
    {
     "name": "stdout",
     "output_type": "stream",
     "text": [
      "[1106, 1105, 1086, 1120, 1124, 1115, 1125, 1071, 1119, 1086, 920, 856, 1100, 1089, 1085, 1118, 914, 1097, 1124, 1125, 1119, 1124, 1111, 1107, 1124, 1122, 1126, 1119, 938, 566, 1059, 950, 805, 1126, 1027, 1105, 1123, 993, 1086, 1121, 1125, 698, 673, 783, 872, 1039, 622]\n"
     ]
    }
   ],
   "source": [
    "print([len(train_df[train_df['ilce'] == ilce]) for ilce in train_df['ilce'].unique()])"
   ]
  },
  {
   "cell_type": "code",
   "execution_count": 5,
   "id": "30a4ee2e",
   "metadata": {
    "execution": {
     "iopub.execute_input": "2024-05-07T11:49:01.735018Z",
     "iopub.status.busy": "2024-05-07T11:49:01.734298Z",
     "iopub.status.idle": "2024-05-07T11:49:01.776866Z",
     "shell.execute_reply": "2024-05-07T11:49:01.775646Z"
    },
    "papermill": {
     "duration": 0.055409,
     "end_time": "2024-05-07T11:49:01.779773",
     "exception": false,
     "start_time": "2024-05-07T11:49:01.724364",
     "status": "completed"
    },
    "tags": []
   },
   "outputs": [
    {
     "name": "stdout",
     "output_type": "stream",
     "text": [
      "[29, 29, 29, 29, 29, 29, 29, 29, 29, 29, 29, 29, 29, 29, 29, 29, 29, 29, 29, 29, 29, 29, 29, 29, 29, 29, 29, 29, 29, 29, 29, 29, 29, 29, 29, 29, 29, 29, 29, 29, 29, 29, 29, 29, 29, 29, 29]\n"
     ]
    }
   ],
   "source": [
    "print([len(test_df[test_df['ilce'] == ilce]) for ilce in test_df['ilce'].unique()])"
   ]
  },
  {
   "cell_type": "code",
   "execution_count": 6,
   "id": "5d5c2dfd",
   "metadata": {
    "execution": {
     "iopub.execute_input": "2024-05-07T11:49:01.799365Z",
     "iopub.status.busy": "2024-05-07T11:49:01.798908Z",
     "iopub.status.idle": "2024-05-07T11:49:02.434181Z",
     "shell.execute_reply": "2024-05-07T11:49:02.432251Z"
    },
    "papermill": {
     "duration": 0.648418,
     "end_time": "2024-05-07T11:49:02.437377",
     "exception": false,
     "start_time": "2024-05-07T11:49:01.788959",
     "status": "completed"
    },
    "tags": []
   },
   "outputs": [
    {
     "name": "stdout",
     "output_type": "stream",
     "text": [
      "min_date : 2021-01-01\n",
      "max_date : 2024-01-31\n"
     ]
    }
   ],
   "source": [
    "ilce_df_array = [[]] * 47\n",
    "for i, ilce in enumerate(train_df['ilce'].unique()):\n",
    "    ilce_df_array[i] = train_df[train_df['ilce'] == ilce]\n",
    "    \n",
    "min_date = train_df['tarih'].min()\n",
    "print('min_date :', min_date)\n",
    "max_date = train_df['tarih'].max()\n",
    "print('max_date :', max_date)\n",
    "full_date_range = pd.date_range(start=min_date, end=max_date)\n",
    "full_date_range = [date.date() for date in full_date_range]\n",
    "full_date_range = [str(date) for date in full_date_range]\n",
    "\n",
    "zero_data = []\n",
    "for ilce_df in ilce_df_array:\n",
    "\n",
    "    existing_dates = set(ilce_df['tarih'])\n",
    "    \n",
    "    missing_dates = [date for date in full_date_range if date not in existing_dates]\n",
    "    \n",
    "    # missing_dates = [str(date.date()) for date in missing_dates] # set ['2021-01-01', '2021-01-02', '2021-01-03'] format\n",
    "    \n",
    "    for missing_date in missing_dates:\n",
    "        zero_data.append({'tarih': missing_date, 'ilce': ilce_df['ilce'].values[0], 'bildirimli_sum': 0, 'bildirimsiz_sum': 0})"
   ]
  },
  {
   "cell_type": "code",
   "execution_count": 7,
   "id": "4ee1b88d",
   "metadata": {
    "execution": {
     "iopub.execute_input": "2024-05-07T11:49:02.457954Z",
     "iopub.status.busy": "2024-05-07T11:49:02.457362Z",
     "iopub.status.idle": "2024-05-07T11:49:02.481261Z",
     "shell.execute_reply": "2024-05-07T11:49:02.479928Z"
    },
    "papermill": {
     "duration": 0.038309,
     "end_time": "2024-05-07T11:49:02.484723",
     "exception": false,
     "start_time": "2024-05-07T11:49:02.446414",
     "status": "completed"
    },
    "tags": []
   },
   "outputs": [],
   "source": [
    "zero_data = pd.DataFrame(zero_data)\n",
    "train_df = pd.concat([train_df, zero_data], ignore_index=True)"
   ]
  },
  {
   "cell_type": "code",
   "execution_count": 8,
   "id": "f42f49e6",
   "metadata": {
    "execution": {
     "iopub.execute_input": "2024-05-07T11:49:02.505194Z",
     "iopub.status.busy": "2024-05-07T11:49:02.504763Z",
     "iopub.status.idle": "2024-05-07T11:49:03.481560Z",
     "shell.execute_reply": "2024-05-07T11:49:03.479953Z"
    },
    "papermill": {
     "duration": 0.990092,
     "end_time": "2024-05-07T11:49:03.484705",
     "exception": false,
     "start_time": "2024-05-07T11:49:02.494613",
     "status": "completed"
    },
    "tags": []
   },
   "outputs": [
    {
     "name": "stdout",
     "output_type": "stream",
     "text": [
      "[1126, 1126, 1126, 1126, 1126, 1126, 1126, 1126, 1126, 1126, 1126, 1126, 1126, 1126, 1126, 1126, 1126, 1126, 1126, 1126, 1126, 1126, 1126, 1126, 1126, 1126, 1126, 1126, 1126, 1126, 1126, 1126, 1126, 1126, 1126, 1126, 1126, 1126, 1126, 1126, 1126, 1126, 1126, 1126, 1126, 1126, 1126]\n"
     ]
    }
   ],
   "source": [
    "ilce_df_array = [[]] * 47\n",
    "for i, ilce in enumerate(train_df['ilce'].unique()):\n",
    "    ilce_df_array[i] = train_df[train_df['ilce'] == ilce]\n",
    "    \n",
    "print([len(train_df[train_df['ilce'] == ilce]) for ilce in train_df['ilce'].unique()])"
   ]
  },
  {
   "cell_type": "code",
   "execution_count": 9,
   "id": "bba2726c",
   "metadata": {
    "execution": {
     "iopub.execute_input": "2024-05-07T11:49:03.504756Z",
     "iopub.status.busy": "2024-05-07T11:49:03.504327Z",
     "iopub.status.idle": "2024-05-07T11:49:03.509822Z",
     "shell.execute_reply": "2024-05-07T11:49:03.508601Z"
    },
    "papermill": {
     "duration": 0.018803,
     "end_time": "2024-05-07T11:49:03.512362",
     "exception": false,
     "start_time": "2024-05-07T11:49:03.493559",
     "status": "completed"
    },
    "tags": []
   },
   "outputs": [],
   "source": [
    "# fig = plt.figure(figsize=(25, 3))\n",
    "# sns.lineplot(data=ilce_df_array[0], x='tarih', y='bildirimsiz_sum', marker='')\n",
    "# plt.xlabel('date')\n",
    "# plt.ylabel('plansız kesinti')\n",
    "# plt.show()"
   ]
  },
  {
   "cell_type": "markdown",
   "id": "9a8052be",
   "metadata": {
    "papermill": {
     "duration": 0.008323,
     "end_time": "2024-05-07T11:49:03.530644",
     "exception": false,
     "start_time": "2024-05-07T11:49:03.522321",
     "status": "completed"
    },
    "tags": []
   },
   "source": [
    "# Modelling"
   ]
  },
  {
   "cell_type": "code",
   "execution_count": 10,
   "id": "ecbbde78",
   "metadata": {
    "execution": {
     "iopub.execute_input": "2024-05-07T11:49:03.550277Z",
     "iopub.status.busy": "2024-05-07T11:49:03.549831Z",
     "iopub.status.idle": "2024-05-07T11:49:03.560250Z",
     "shell.execute_reply": "2024-05-07T11:49:03.558968Z"
    },
    "papermill": {
     "duration": 0.023665,
     "end_time": "2024-05-07T11:49:03.563302",
     "exception": false,
     "start_time": "2024-05-07T11:49:03.539637",
     "status": "completed"
    },
    "tags": []
   },
   "outputs": [],
   "source": [
    "train_df = train_df.drop(['bildirimli_sum'], axis=1)"
   ]
  },
  {
   "cell_type": "code",
   "execution_count": 11,
   "id": "f6fb56e7",
   "metadata": {
    "execution": {
     "iopub.execute_input": "2024-05-07T11:49:03.583619Z",
     "iopub.status.busy": "2024-05-07T11:49:03.582353Z",
     "iopub.status.idle": "2024-05-07T11:49:03.598790Z",
     "shell.execute_reply": "2024-05-07T11:49:03.597770Z"
    },
    "papermill": {
     "duration": 0.029245,
     "end_time": "2024-05-07T11:49:03.601575",
     "exception": false,
     "start_time": "2024-05-07T11:49:03.572330",
     "status": "completed"
    },
    "tags": []
   },
   "outputs": [
    {
     "data": {
      "text/html": [
       "<div>\n",
       "<style scoped>\n",
       "    .dataframe tbody tr th:only-of-type {\n",
       "        vertical-align: middle;\n",
       "    }\n",
       "\n",
       "    .dataframe tbody tr th {\n",
       "        vertical-align: top;\n",
       "    }\n",
       "\n",
       "    .dataframe thead th {\n",
       "        text-align: right;\n",
       "    }\n",
       "</style>\n",
       "<table border=\"1\" class=\"dataframe\">\n",
       "  <thead>\n",
       "    <tr style=\"text-align: right;\">\n",
       "      <th></th>\n",
       "      <th>tarih</th>\n",
       "      <th>ilce</th>\n",
       "      <th>bildirimsiz_sum</th>\n",
       "    </tr>\n",
       "  </thead>\n",
       "  <tbody>\n",
       "    <tr>\n",
       "      <th>0</th>\n",
       "      <td>2021-01-01</td>\n",
       "      <td>izmir-aliaga</td>\n",
       "      <td>5</td>\n",
       "    </tr>\n",
       "    <tr>\n",
       "      <th>1</th>\n",
       "      <td>2021-01-02</td>\n",
       "      <td>izmir-aliaga</td>\n",
       "      <td>13</td>\n",
       "    </tr>\n",
       "    <tr>\n",
       "      <th>2</th>\n",
       "      <td>2021-01-03</td>\n",
       "      <td>izmir-aliaga</td>\n",
       "      <td>4</td>\n",
       "    </tr>\n",
       "    <tr>\n",
       "      <th>3</th>\n",
       "      <td>2021-01-04</td>\n",
       "      <td>izmir-aliaga</td>\n",
       "      <td>9</td>\n",
       "    </tr>\n",
       "    <tr>\n",
       "      <th>4</th>\n",
       "      <td>2021-01-05</td>\n",
       "      <td>izmir-aliaga</td>\n",
       "      <td>2</td>\n",
       "    </tr>\n",
       "  </tbody>\n",
       "</table>\n",
       "</div>"
      ],
      "text/plain": [
       "        tarih          ilce  bildirimsiz_sum\n",
       "0  2021-01-01  izmir-aliaga                5\n",
       "1  2021-01-02  izmir-aliaga               13\n",
       "2  2021-01-03  izmir-aliaga                4\n",
       "3  2021-01-04  izmir-aliaga                9\n",
       "4  2021-01-05  izmir-aliaga                2"
      ]
     },
     "execution_count": 11,
     "metadata": {},
     "output_type": "execute_result"
    }
   ],
   "source": [
    "train_df.head()"
   ]
  },
  {
   "cell_type": "code",
   "execution_count": 12,
   "id": "08866c8b",
   "metadata": {
    "execution": {
     "iopub.execute_input": "2024-05-07T11:49:03.621796Z",
     "iopub.status.busy": "2024-05-07T11:49:03.621382Z",
     "iopub.status.idle": "2024-05-07T11:49:05.929306Z",
     "shell.execute_reply": "2024-05-07T11:49:05.927482Z"
    },
    "papermill": {
     "duration": 2.321737,
     "end_time": "2024-05-07T11:49:05.932475",
     "exception": false,
     "start_time": "2024-05-07T11:49:03.610738",
     "status": "completed"
    },
    "tags": []
   },
   "outputs": [
    {
     "name": "stdout",
     "output_type": "stream",
     "text": [
      "\u001b[33mWARNING: Package(s) not found: autogluon\u001b[0m\u001b[33m\r\n",
      "\u001b[0m"
     ]
    }
   ],
   "source": [
    "!pip show autogluon"
   ]
  },
  {
   "cell_type": "code",
   "execution_count": null,
   "id": "1516f64a",
   "metadata": {
    "_kg_hide-input": false,
    "_kg_hide-output": false,
    "papermill": {
     "duration": 131.382526,
     "end_time": "2024-05-07T11:51:17.324334",
     "exception": false,
     "start_time": "2024-05-07T11:49:05.941808",
     "status": "completed"
    },
    "tags": []
   },
   "outputs": [],
   "source": [
    "# !pip install scikit-learn==1.4.0\n",
    "!pip install autogluon==1.1.0"
   ]
  },
  {
   "cell_type": "code",
   "execution_count": 14,
   "id": "ea354f5c",
   "metadata": {
    "execution": {
     "iopub.execute_input": "2024-05-07T11:51:17.397477Z",
     "iopub.status.busy": "2024-05-07T11:51:17.397034Z",
     "iopub.status.idle": "2024-05-07T11:57:00.776036Z",
     "shell.execute_reply": "2024-05-07T11:57:00.774534Z"
    },
    "papermill": {
     "duration": 343.420078,
     "end_time": "2024-05-07T11:57:00.779170",
     "exception": false,
     "start_time": "2024-05-07T11:51:17.359092",
     "status": "completed"
    },
    "tags": []
   },
   "outputs": [
    {
     "name": "stderr",
     "output_type": "stream",
     "text": [
      "Beginning AutoGluon training... Time limit = 600s\n",
      "AutoGluon will save models to 'autogluon-m4-hourly_1'\n",
      "=================== System Info ===================\n",
      "AutoGluon Version:  1.1.0\n",
      "Python Version:     3.10.13\n",
      "Operating System:   Linux\n",
      "Platform Machine:   x86_64\n",
      "Platform Version:   #1 SMP Tue Dec 19 13:14:11 UTC 2023\n",
      "CPU Count:          4\n",
      "GPU Count:          0\n",
      "Memory Avail:       30.10 GB / 31.36 GB (96.0%)\n",
      "Disk Space Avail:   19.50 GB / 19.52 GB (99.9%)\n",
      "===================================================\n",
      "Setting presets to: medium_quality\n",
      "\n",
      "Fitting with arguments:\n",
      "{'enable_ensemble': True,\n",
      " 'eval_metric': MASE,\n",
      " 'freq': 'D',\n",
      " 'hyperparameters': 'light',\n",
      " 'known_covariates_names': [],\n",
      " 'num_val_windows': 1,\n",
      " 'prediction_length': 29,\n",
      " 'quantile_levels': [0.1, 0.2, 0.3, 0.4, 0.5, 0.6, 0.7, 0.8, 0.9],\n",
      " 'random_seed': 123,\n",
      " 'refit_every_n_windows': 1,\n",
      " 'refit_full': False,\n",
      " 'skip_model_selection': False,\n",
      " 'target': 'bildirimsiz_sum',\n",
      " 'time_limit': 600,\n",
      " 'verbosity': 2}\n",
      "\n",
      "Provided train_data has 52922 rows, 47 time series. Median time series length is 1126 (min=1126, max=1126). \n",
      "\n",
      "Provided data contains following columns:\n",
      "\ttarget: 'bildirimsiz_sum'\n",
      "\n",
      "AutoGluon will gauge predictive performance using evaluation metric: 'MASE'\n",
      "\tThis metric's sign has been flipped to adhere to being higher_is_better. The metric score can be multiplied by -1 to get the metric value.\n",
      "===================================================\n",
      "\n",
      "Starting training. Start time is 2024-05-07 11:51:23\n",
      "Models that will be trained: ['Naive', 'SeasonalNaive', 'RecursiveTabular', 'DirectTabular', 'ETS', 'Theta', 'TemporalFusionTransformer']\n",
      "Training timeseries model Naive. Training for up to 74.2s of the 593.9s of remaining time.\n",
      "\t-0.9863       = Validation score (-MASE)\n",
      "\t0.13    s     = Training runtime\n",
      "\t2.55    s     = Validation (prediction) runtime\n",
      "Training timeseries model SeasonalNaive. Training for up to 84.5s of the 591.3s of remaining time.\n",
      "\t-1.0080       = Validation score (-MASE)\n",
      "\t0.12    s     = Training runtime\n",
      "\t0.15    s     = Validation (prediction) runtime\n",
      "Training timeseries model RecursiveTabular. Training for up to 98.5s of the 591.0s of remaining time.\n",
      "\t-0.8665       = Validation score (-MASE)\n",
      "\t9.17    s     = Training runtime\n",
      "\t1.96    s     = Validation (prediction) runtime\n",
      "Training timeseries model DirectTabular. Training for up to 116.0s of the 579.8s of remaining time.\n",
      "\t-0.8434       = Validation score (-MASE)\n",
      "\t1.73    s     = Training runtime\n",
      "\t0.28    s     = Validation (prediction) runtime\n",
      "Training timeseries model ETS. Training for up to 144.5s of the 577.8s of remaining time.\n",
      "\t-0.8187       = Validation score (-MASE)\n",
      "\t0.12    s     = Training runtime\n",
      "\t43.90   s     = Validation (prediction) runtime\n",
      "Training timeseries model Theta. Training for up to 177.9s of the 533.8s of remaining time.\n",
      "\t-0.8318       = Validation score (-MASE)\n",
      "\t0.14    s     = Training runtime\n",
      "\t27.34   s     = Validation (prediction) runtime\n",
      "Training timeseries model TemporalFusionTransformer. Training for up to 253.1s of the 506.3s of remaining time.\n",
      "/opt/conda/lib/python3.10/site-packages/requests/__init__.py:109: RequestsDependencyWarning: urllib3 (2.1.0) or chardet (None)/charset_normalizer (3.3.2) doesn't match a supported version!\n",
      "  warnings.warn(\n",
      "2024-05-07 11:53:02.996036: E external/local_xla/xla/stream_executor/cuda/cuda_dnn.cc:9261] Unable to register cuDNN factory: Attempting to register factory for plugin cuDNN when one has already been registered\n",
      "2024-05-07 11:53:02.996196: E external/local_xla/xla/stream_executor/cuda/cuda_fft.cc:607] Unable to register cuFFT factory: Attempting to register factory for plugin cuFFT when one has already been registered\n",
      "2024-05-07 11:53:03.174433: E external/local_xla/xla/stream_executor/cuda/cuda_blas.cc:1515] Unable to register cuBLAS factory: Attempting to register factory for plugin cuBLAS when one has already been registered\n",
      "\t-0.7941       = Validation score (-MASE)\n",
      "\t246.60  s     = Training runtime\n",
      "\t0.15    s     = Validation (prediction) runtime\n",
      "Fitting simple weighted ensemble.\n",
      "\tEnsemble weights: {'RecursiveTabular': 0.06, 'TemporalFusionTransformer': 0.94}\n",
      "\t-0.7937       = Validation score (-MASE)\n",
      "\t0.92    s     = Training runtime\n",
      "\t2.10    s     = Validation (prediction) runtime\n",
      "Training complete. Models trained: ['Naive', 'SeasonalNaive', 'RecursiveTabular', 'DirectTabular', 'ETS', 'Theta', 'TemporalFusionTransformer', 'WeightedEnsemble']\n",
      "Total runtime: 337.47 s\n",
      "Best model: WeightedEnsemble\n",
      "Best model score: -0.7937\n"
     ]
    },
    {
     "data": {
      "text/plain": [
       "<autogluon.timeseries.predictor.TimeSeriesPredictor at 0x783710612260>"
      ]
     },
     "execution_count": 14,
     "metadata": {},
     "output_type": "execute_result"
    }
   ],
   "source": [
    "from autogluon.timeseries import TimeSeriesDataFrame, TimeSeriesPredictor\n",
    "\n",
    "train_tsdf = TimeSeriesDataFrame.from_data_frame(\n",
    "    train_df,\n",
    "    id_column=\"ilce\",\n",
    "    timestamp_column=\"tarih\"\n",
    ")\n",
    "\n",
    "predictor = TimeSeriesPredictor(\n",
    "    freq=\"D\",\n",
    "    prediction_length=29,\n",
    "    path=\"autogluon-m4-hourly_1\",\n",
    "    target=\"bildirimsiz_sum\",\n",
    "    eval_metric=\"MASE\",\n",
    ")\n",
    "\n",
    "predictor.fit(\n",
    "    train_tsdf,\n",
    "    presets=\"medium_quality\",\n",
    "    time_limit=600,\n",
    ")"
   ]
  },
  {
   "cell_type": "code",
   "execution_count": 15,
   "id": "b97aa45e",
   "metadata": {
    "execution": {
     "iopub.execute_input": "2024-05-07T11:57:00.865706Z",
     "iopub.status.busy": "2024-05-07T11:57:00.865252Z",
     "iopub.status.idle": "2024-05-07T11:57:00.874148Z",
     "shell.execute_reply": "2024-05-07T11:57:00.872639Z"
    },
    "papermill": {
     "duration": 0.05518,
     "end_time": "2024-05-07T11:57:00.876905",
     "exception": false,
     "start_time": "2024-05-07T11:57:00.821725",
     "status": "completed"
    },
    "tags": []
   },
   "outputs": [
    {
     "data": {
      "text/plain": [
       "<autogluon.timeseries.predictor.TimeSeriesPredictor at 0x783710612260>"
      ]
     },
     "execution_count": 15,
     "metadata": {},
     "output_type": "execute_result"
    }
   ],
   "source": [
    "predictor"
   ]
  },
  {
   "cell_type": "code",
   "execution_count": 16,
   "id": "52d2541f",
   "metadata": {
    "execution": {
     "iopub.execute_input": "2024-05-07T11:57:00.960608Z",
     "iopub.status.busy": "2024-05-07T11:57:00.960118Z",
     "iopub.status.idle": "2024-05-07T11:57:01.988280Z",
     "shell.execute_reply": "2024-05-07T11:57:01.986760Z"
    },
    "papermill": {
     "duration": 1.073592,
     "end_time": "2024-05-07T11:57:01.991309",
     "exception": false,
     "start_time": "2024-05-07T11:57:00.917717",
     "status": "completed"
    },
    "tags": []
   },
   "outputs": [
    {
     "name": "stderr",
     "output_type": "stream",
     "text": [
      "Model not specified in predict, will default to the model with the best validation score: WeightedEnsemble\n"
     ]
    }
   ],
   "source": [
    "predictions = predictor.predict(train_tsdf)"
   ]
  },
  {
   "cell_type": "code",
   "execution_count": 17,
   "id": "05032b85",
   "metadata": {
    "execution": {
     "iopub.execute_input": "2024-05-07T11:57:02.077016Z",
     "iopub.status.busy": "2024-05-07T11:57:02.076612Z",
     "iopub.status.idle": "2024-05-07T11:57:02.106664Z",
     "shell.execute_reply": "2024-05-07T11:57:02.105126Z"
    },
    "papermill": {
     "duration": 0.076725,
     "end_time": "2024-05-07T11:57:02.109478",
     "exception": false,
     "start_time": "2024-05-07T11:57:02.032753",
     "status": "completed"
    },
    "tags": []
   },
   "outputs": [
    {
     "data": {
      "text/html": [
       "<div>\n",
       "<style scoped>\n",
       "    .dataframe tbody tr th:only-of-type {\n",
       "        vertical-align: middle;\n",
       "    }\n",
       "\n",
       "    .dataframe tbody tr th {\n",
       "        vertical-align: top;\n",
       "    }\n",
       "\n",
       "    .dataframe thead th {\n",
       "        text-align: right;\n",
       "    }\n",
       "</style>\n",
       "<table border=\"1\" class=\"dataframe\">\n",
       "  <thead>\n",
       "    <tr style=\"text-align: right;\">\n",
       "      <th></th>\n",
       "      <th></th>\n",
       "      <th>mean</th>\n",
       "      <th>0.1</th>\n",
       "      <th>0.2</th>\n",
       "      <th>0.3</th>\n",
       "      <th>0.4</th>\n",
       "      <th>0.5</th>\n",
       "      <th>0.6</th>\n",
       "      <th>0.7</th>\n",
       "      <th>0.8</th>\n",
       "      <th>0.9</th>\n",
       "    </tr>\n",
       "    <tr>\n",
       "      <th>item_id</th>\n",
       "      <th>timestamp</th>\n",
       "      <th></th>\n",
       "      <th></th>\n",
       "      <th></th>\n",
       "      <th></th>\n",
       "      <th></th>\n",
       "      <th></th>\n",
       "      <th></th>\n",
       "      <th></th>\n",
       "      <th></th>\n",
       "      <th></th>\n",
       "    </tr>\n",
       "  </thead>\n",
       "  <tbody>\n",
       "    <tr>\n",
       "      <th rowspan=\"5\" valign=\"top\">izmir-aliaga</th>\n",
       "      <th>2024-02-01</th>\n",
       "      <td>5.201255</td>\n",
       "      <td>2.521175</td>\n",
       "      <td>3.129802</td>\n",
       "      <td>3.821094</td>\n",
       "      <td>4.529765</td>\n",
       "      <td>5.201255</td>\n",
       "      <td>5.999046</td>\n",
       "      <td>7.127612</td>\n",
       "      <td>8.613727</td>\n",
       "      <td>11.241096</td>\n",
       "    </tr>\n",
       "    <tr>\n",
       "      <th>2024-02-02</th>\n",
       "      <td>5.453587</td>\n",
       "      <td>2.417618</td>\n",
       "      <td>3.234872</td>\n",
       "      <td>3.982102</td>\n",
       "      <td>4.814445</td>\n",
       "      <td>5.453587</td>\n",
       "      <td>6.208048</td>\n",
       "      <td>7.296566</td>\n",
       "      <td>8.893885</td>\n",
       "      <td>11.322761</td>\n",
       "    </tr>\n",
       "    <tr>\n",
       "      <th>2024-02-03</th>\n",
       "      <td>5.253850</td>\n",
       "      <td>2.028794</td>\n",
       "      <td>2.933024</td>\n",
       "      <td>3.768392</td>\n",
       "      <td>4.571925</td>\n",
       "      <td>5.253850</td>\n",
       "      <td>6.013094</td>\n",
       "      <td>7.041426</td>\n",
       "      <td>8.652251</td>\n",
       "      <td>11.016119</td>\n",
       "    </tr>\n",
       "    <tr>\n",
       "      <th>2024-02-04</th>\n",
       "      <td>5.282825</td>\n",
       "      <td>2.002696</td>\n",
       "      <td>2.927203</td>\n",
       "      <td>3.822844</td>\n",
       "      <td>4.559482</td>\n",
       "      <td>5.282825</td>\n",
       "      <td>6.024094</td>\n",
       "      <td>7.008616</td>\n",
       "      <td>8.646334</td>\n",
       "      <td>10.989678</td>\n",
       "    </tr>\n",
       "    <tr>\n",
       "      <th>2024-02-05</th>\n",
       "      <td>6.083039</td>\n",
       "      <td>2.315224</td>\n",
       "      <td>3.259524</td>\n",
       "      <td>4.295290</td>\n",
       "      <td>5.160411</td>\n",
       "      <td>6.083039</td>\n",
       "      <td>6.924552</td>\n",
       "      <td>8.078605</td>\n",
       "      <td>10.019071</td>\n",
       "      <td>12.698942</td>\n",
       "    </tr>\n",
       "    <tr>\n",
       "      <th>...</th>\n",
       "      <th>...</th>\n",
       "      <td>...</td>\n",
       "      <td>...</td>\n",
       "      <td>...</td>\n",
       "      <td>...</td>\n",
       "      <td>...</td>\n",
       "      <td>...</td>\n",
       "      <td>...</td>\n",
       "      <td>...</td>\n",
       "      <td>...</td>\n",
       "      <td>...</td>\n",
       "    </tr>\n",
       "    <tr>\n",
       "      <th rowspan=\"5\" valign=\"top\">manisa-ahmetli</th>\n",
       "      <th>2024-02-25</th>\n",
       "      <td>0.661113</td>\n",
       "      <td>-0.472557</td>\n",
       "      <td>-0.100965</td>\n",
       "      <td>0.176371</td>\n",
       "      <td>0.428798</td>\n",
       "      <td>0.661113</td>\n",
       "      <td>0.962890</td>\n",
       "      <td>1.250880</td>\n",
       "      <td>1.603337</td>\n",
       "      <td>2.253626</td>\n",
       "    </tr>\n",
       "    <tr>\n",
       "      <th>2024-02-26</th>\n",
       "      <td>0.827956</td>\n",
       "      <td>-0.440011</td>\n",
       "      <td>-0.033995</td>\n",
       "      <td>0.247563</td>\n",
       "      <td>0.566979</td>\n",
       "      <td>0.827956</td>\n",
       "      <td>1.166926</td>\n",
       "      <td>1.463008</td>\n",
       "      <td>1.879587</td>\n",
       "      <td>2.662738</td>\n",
       "    </tr>\n",
       "    <tr>\n",
       "      <th>2024-02-27</th>\n",
       "      <td>0.821923</td>\n",
       "      <td>-0.460757</td>\n",
       "      <td>-0.040586</td>\n",
       "      <td>0.237516</td>\n",
       "      <td>0.558913</td>\n",
       "      <td>0.821923</td>\n",
       "      <td>1.156260</td>\n",
       "      <td>1.453279</td>\n",
       "      <td>1.868588</td>\n",
       "      <td>2.641900</td>\n",
       "    </tr>\n",
       "    <tr>\n",
       "      <th>2024-02-28</th>\n",
       "      <td>0.819030</td>\n",
       "      <td>-0.471126</td>\n",
       "      <td>-0.039026</td>\n",
       "      <td>0.235274</td>\n",
       "      <td>0.555920</td>\n",
       "      <td>0.819030</td>\n",
       "      <td>1.152004</td>\n",
       "      <td>1.448753</td>\n",
       "      <td>1.860268</td>\n",
       "      <td>2.612892</td>\n",
       "    </tr>\n",
       "    <tr>\n",
       "      <th>2024-02-29</th>\n",
       "      <td>0.839703</td>\n",
       "      <td>-0.449016</td>\n",
       "      <td>-0.009800</td>\n",
       "      <td>0.262902</td>\n",
       "      <td>0.577993</td>\n",
       "      <td>0.839703</td>\n",
       "      <td>1.170922</td>\n",
       "      <td>1.467223</td>\n",
       "      <td>1.870406</td>\n",
       "      <td>2.595724</td>\n",
       "    </tr>\n",
       "  </tbody>\n",
       "</table>\n",
       "<p>1363 rows × 10 columns</p>\n",
       "</div>"
      ],
      "text/plain": [
       "                               mean       0.1       0.2       0.3       0.4  \\\n",
       "item_id        timestamp                                                      \n",
       "izmir-aliaga   2024-02-01  5.201255  2.521175  3.129802  3.821094  4.529765   \n",
       "               2024-02-02  5.453587  2.417618  3.234872  3.982102  4.814445   \n",
       "               2024-02-03  5.253850  2.028794  2.933024  3.768392  4.571925   \n",
       "               2024-02-04  5.282825  2.002696  2.927203  3.822844  4.559482   \n",
       "               2024-02-05  6.083039  2.315224  3.259524  4.295290  5.160411   \n",
       "...                             ...       ...       ...       ...       ...   \n",
       "manisa-ahmetli 2024-02-25  0.661113 -0.472557 -0.100965  0.176371  0.428798   \n",
       "               2024-02-26  0.827956 -0.440011 -0.033995  0.247563  0.566979   \n",
       "               2024-02-27  0.821923 -0.460757 -0.040586  0.237516  0.558913   \n",
       "               2024-02-28  0.819030 -0.471126 -0.039026  0.235274  0.555920   \n",
       "               2024-02-29  0.839703 -0.449016 -0.009800  0.262902  0.577993   \n",
       "\n",
       "                                0.5       0.6       0.7        0.8        0.9  \n",
       "item_id        timestamp                                                       \n",
       "izmir-aliaga   2024-02-01  5.201255  5.999046  7.127612   8.613727  11.241096  \n",
       "               2024-02-02  5.453587  6.208048  7.296566   8.893885  11.322761  \n",
       "               2024-02-03  5.253850  6.013094  7.041426   8.652251  11.016119  \n",
       "               2024-02-04  5.282825  6.024094  7.008616   8.646334  10.989678  \n",
       "               2024-02-05  6.083039  6.924552  8.078605  10.019071  12.698942  \n",
       "...                             ...       ...       ...        ...        ...  \n",
       "manisa-ahmetli 2024-02-25  0.661113  0.962890  1.250880   1.603337   2.253626  \n",
       "               2024-02-26  0.827956  1.166926  1.463008   1.879587   2.662738  \n",
       "               2024-02-27  0.821923  1.156260  1.453279   1.868588   2.641900  \n",
       "               2024-02-28  0.819030  1.152004  1.448753   1.860268   2.612892  \n",
       "               2024-02-29  0.839703  1.170922  1.467223   1.870406   2.595724  \n",
       "\n",
       "[1363 rows x 10 columns]"
      ]
     },
     "execution_count": 17,
     "metadata": {},
     "output_type": "execute_result"
    }
   ],
   "source": [
    "predictions"
   ]
  },
  {
   "cell_type": "code",
   "execution_count": 18,
   "id": "ba328805",
   "metadata": {
    "execution": {
     "iopub.execute_input": "2024-05-07T11:57:02.195727Z",
     "iopub.status.busy": "2024-05-07T11:57:02.195314Z",
     "iopub.status.idle": "2024-05-07T11:57:02.209678Z",
     "shell.execute_reply": "2024-05-07T11:57:02.208316Z"
    },
    "papermill": {
     "duration": 0.062368,
     "end_time": "2024-05-07T11:57:02.212525",
     "exception": false,
     "start_time": "2024-05-07T11:57:02.150157",
     "status": "completed"
    },
    "tags": []
   },
   "outputs": [
    {
     "data": {
      "text/html": [
       "<div>\n",
       "<style scoped>\n",
       "    .dataframe tbody tr th:only-of-type {\n",
       "        vertical-align: middle;\n",
       "    }\n",
       "\n",
       "    .dataframe tbody tr th {\n",
       "        vertical-align: top;\n",
       "    }\n",
       "\n",
       "    .dataframe thead th {\n",
       "        text-align: right;\n",
       "    }\n",
       "</style>\n",
       "<table border=\"1\" class=\"dataframe\">\n",
       "  <thead>\n",
       "    <tr style=\"text-align: right;\">\n",
       "      <th></th>\n",
       "      <th>unique_id</th>\n",
       "      <th>bildirimsiz_sum</th>\n",
       "    </tr>\n",
       "  </thead>\n",
       "  <tbody>\n",
       "    <tr>\n",
       "      <th>0</th>\n",
       "      <td>2024-02-01-izmir-aliaga</td>\n",
       "      <td>NaN</td>\n",
       "    </tr>\n",
       "    <tr>\n",
       "      <th>1</th>\n",
       "      <td>2024-02-01-izmir-bayindir</td>\n",
       "      <td>NaN</td>\n",
       "    </tr>\n",
       "    <tr>\n",
       "      <th>2</th>\n",
       "      <td>2024-02-01-izmir-bayrakli</td>\n",
       "      <td>NaN</td>\n",
       "    </tr>\n",
       "    <tr>\n",
       "      <th>3</th>\n",
       "      <td>2024-02-01-izmir-bergama</td>\n",
       "      <td>NaN</td>\n",
       "    </tr>\n",
       "    <tr>\n",
       "      <th>4</th>\n",
       "      <td>2024-02-01-izmir-bornova</td>\n",
       "      <td>NaN</td>\n",
       "    </tr>\n",
       "    <tr>\n",
       "      <th>...</th>\n",
       "      <td>...</td>\n",
       "      <td>...</td>\n",
       "    </tr>\n",
       "    <tr>\n",
       "      <th>1358</th>\n",
       "      <td>2024-02-29-izmir-beydag</td>\n",
       "      <td>NaN</td>\n",
       "    </tr>\n",
       "    <tr>\n",
       "      <th>1359</th>\n",
       "      <td>2024-02-29-izmir-narlidere</td>\n",
       "      <td>NaN</td>\n",
       "    </tr>\n",
       "    <tr>\n",
       "      <th>1360</th>\n",
       "      <td>2024-02-29-izmir-selcuk</td>\n",
       "      <td>NaN</td>\n",
       "    </tr>\n",
       "    <tr>\n",
       "      <th>1361</th>\n",
       "      <td>2024-02-29-manisa-kula</td>\n",
       "      <td>NaN</td>\n",
       "    </tr>\n",
       "    <tr>\n",
       "      <th>1362</th>\n",
       "      <td>2024-02-29-manisa-ahmetli</td>\n",
       "      <td>NaN</td>\n",
       "    </tr>\n",
       "  </tbody>\n",
       "</table>\n",
       "<p>1363 rows × 2 columns</p>\n",
       "</div>"
      ],
      "text/plain": [
       "                       unique_id  bildirimsiz_sum\n",
       "0        2024-02-01-izmir-aliaga              NaN\n",
       "1      2024-02-01-izmir-bayindir              NaN\n",
       "2      2024-02-01-izmir-bayrakli              NaN\n",
       "3       2024-02-01-izmir-bergama              NaN\n",
       "4       2024-02-01-izmir-bornova              NaN\n",
       "...                          ...              ...\n",
       "1358     2024-02-29-izmir-beydag              NaN\n",
       "1359  2024-02-29-izmir-narlidere              NaN\n",
       "1360     2024-02-29-izmir-selcuk              NaN\n",
       "1361      2024-02-29-manisa-kula              NaN\n",
       "1362   2024-02-29-manisa-ahmetli              NaN\n",
       "\n",
       "[1363 rows x 2 columns]"
      ]
     },
     "execution_count": 18,
     "metadata": {},
     "output_type": "execute_result"
    }
   ],
   "source": [
    "sample_submission"
   ]
  },
  {
   "cell_type": "code",
   "execution_count": 19,
   "id": "174986c1",
   "metadata": {
    "execution": {
     "iopub.execute_input": "2024-05-07T11:57:02.299253Z",
     "iopub.status.busy": "2024-05-07T11:57:02.298829Z",
     "iopub.status.idle": "2024-05-07T11:57:02.310840Z",
     "shell.execute_reply": "2024-05-07T11:57:02.309613Z"
    },
    "papermill": {
     "duration": 0.059288,
     "end_time": "2024-05-07T11:57:02.313257",
     "exception": false,
     "start_time": "2024-05-07T11:57:02.253969",
     "status": "completed"
    },
    "tags": []
   },
   "outputs": [
    {
     "data": {
      "text/plain": [
       "mean     5.201255\n",
       "0.1      2.521175\n",
       "0.2      3.129802\n",
       "0.3      3.821094\n",
       "0.4      4.529765\n",
       "0.5      5.201255\n",
       "0.6      5.999046\n",
       "0.7      7.127612\n",
       "0.8      8.613727\n",
       "0.9     11.241096\n",
       "Name: (izmir-aliaga, 2024-02-01 00:00:00), dtype: float64"
      ]
     },
     "execution_count": 19,
     "metadata": {},
     "output_type": "execute_result"
    }
   ],
   "source": [
    "predictions.loc['izmir-aliaga', '2024-02-01']"
   ]
  },
  {
   "cell_type": "code",
   "execution_count": null,
   "id": "de489980",
   "metadata": {
    "papermill": {
     "duration": 1.952204,
     "end_time": "2024-05-07T11:57:04.308330",
     "exception": false,
     "start_time": "2024-05-07T11:57:02.356126",
     "status": "completed"
    },
    "tags": []
   },
   "outputs": [],
   "source": [
    "for _id in sample_submission['unique_id']:\n",
    "    tarih = _id[0:10]\n",
    "    ilce = _id[11:len(_id)]\n",
    "    try:\n",
    "        sample_submission.loc[sample_submission['unique_id'] == _id, 'bildirimsiz_sum'] = predictions.loc[ilce, tarih][4] # 0: mean\n",
    "    except:\n",
    "        print(ilce, tarih)\n",
    "        sample_submission.loc[sample_submission['unique_id'] == _id, 'bildirimsiz_sum'] = 3"
   ]
  },
  {
   "cell_type": "code",
   "execution_count": 21,
   "id": "30b216f9",
   "metadata": {
    "execution": {
     "iopub.execute_input": "2024-05-07T11:57:04.416458Z",
     "iopub.status.busy": "2024-05-07T11:57:04.415995Z",
     "iopub.status.idle": "2024-05-07T11:57:04.422972Z",
     "shell.execute_reply": "2024-05-07T11:57:04.421573Z"
    },
    "papermill": {
     "duration": 0.063998,
     "end_time": "2024-05-07T11:57:04.425498",
     "exception": false,
     "start_time": "2024-05-07T11:57:04.361500",
     "status": "completed"
    },
    "tags": []
   },
   "outputs": [],
   "source": [
    "sample_submission.loc[sample_submission['bildirimsiz_sum'] < 0, 'bildirimsiz_sum'] = 0"
   ]
  },
  {
   "cell_type": "code",
   "execution_count": 22,
   "id": "1e2236d2",
   "metadata": {
    "execution": {
     "iopub.execute_input": "2024-05-07T11:57:04.597607Z",
     "iopub.status.busy": "2024-05-07T11:57:04.597154Z",
     "iopub.status.idle": "2024-05-07T11:57:04.615111Z",
     "shell.execute_reply": "2024-05-07T11:57:04.613652Z"
    },
    "papermill": {
     "duration": 0.074086,
     "end_time": "2024-05-07T11:57:04.618240",
     "exception": false,
     "start_time": "2024-05-07T11:57:04.544154",
     "status": "completed"
    },
    "tags": []
   },
   "outputs": [
    {
     "name": "stdout",
     "output_type": "stream",
     "text": [
      "Your submission was successfully saved!\n"
     ]
    }
   ],
   "source": [
    "output = pd.DataFrame({\n",
    "    'unique_id': sample_submission['unique_id'],\n",
    "    'bildirimsiz_sum': sample_submission['bildirimsiz_sum']\n",
    "})\n",
    "output.to_csv('kaggle_base_comprehension_sub.csv', index=False)\n",
    "print(\"Your submission was successfully saved!\")"
   ]
  },
  {
   "cell_type": "code",
   "execution_count": null,
   "id": "a275bf3d",
   "metadata": {
    "papermill": {
     "duration": 0.049965,
     "end_time": "2024-05-07T11:57:04.720041",
     "exception": false,
     "start_time": "2024-05-07T11:57:04.670076",
     "status": "completed"
    },
    "tags": []
   },
   "outputs": [],
   "source": []
  }
 ],
 "metadata": {
  "kaggle": {
   "accelerator": "none",
   "dataSources": [
    {
     "databundleVersionId": 8421693,
     "sourceId": 77202,
     "sourceType": "competition"
    }
   ],
   "dockerImageVersionId": 30698,
   "isGpuEnabled": false,
   "isInternetEnabled": true,
   "language": "python",
   "sourceType": "notebook"
  },
  "kernelspec": {
   "display_name": "Python 3 (ipykernel)",
   "language": "python",
   "name": "python3"
  },
  "language_info": {
   "codemirror_mode": {
    "name": "ipython",
    "version": 3
   },
   "file_extension": ".py",
   "mimetype": "text/x-python",
   "name": "python",
   "nbconvert_exporter": "python",
   "pygments_lexer": "ipython3",
   "version": "3.11.4"
  },
  "papermill": {
   "default_parameters": {},
   "duration": 496.414196,
   "end_time": "2024-05-07T11:57:07.495972",
   "environment_variables": {},
   "exception": null,
   "input_path": "__notebook__.ipynb",
   "output_path": "__notebook__.ipynb",
   "parameters": {},
   "start_time": "2024-05-07T11:48:51.081776",
   "version": "2.5.0"
  }
 },
 "nbformat": 4,
 "nbformat_minor": 5
}
